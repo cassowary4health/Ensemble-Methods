{
 "cells": [
  {
   "cell_type": "markdown",
   "metadata": {},
   "source": [
    "_This notebook contains code and comments from Sections 6.3 and 6.4 of the book [Ensemble Methods for Machine Learning](https://www.manning.com/books/ensemble-methods-for-machine-learning). Please see the book for additional details on this topic. This notebook and code are released under the [MIT license](https://github.com/gkunapuli/ensemble-methods-notebooks/blob/master/LICENSE)._\n",
    "\n",
    "## 6.3 XGBoost: A Framework for Newton Boosting\n",
    "[XGboost](https://xgboost.readthedocs.io/en/latest/), or eXtreme Gradient Boosting is a popular open-source gradient boosting framework. It was originally developed by Tianqi Chen and gained widespread popularity when it won the Higgs Boson Kaggle Challenge in 2014. Like LightGBM, XGBoost is a highly-scalable tree boosting package that can be extended to work with millions of data points. XGBoost offers the following advantages:\n",
    "* Parallelization and cache-aware optimization for highly efficient tree learning, to enable support for ver large data sets and lower memory usage (Section 6.3.1)\n",
    "* Newton boosting with regularized learning objectives (Section 6.3.1)\n",
    "* Support for a large number of loss functions for classification, regression and ranking as well as application-specific custom loss functions (Section 6.3.2);"
   ]
  },
  {
   "cell_type": "markdown",
   "metadata": {},
   "source": [
    "### 6.3.2 Newton Boosting with XGBoost\n",
    "See the documentation of XGBoost for [installation instructions](https://xgboost.readthedocs.io/en/latest/build.html); it can be installed quickly with pip or built from the source up. \n",
    "\n",
    "We kick off our explorations of XGBoost with the breast cancer data set, which we have used several times in the past as a benchmark data set."
   ]
  },
  {
   "cell_type": "code",
   "execution_count": 1,
   "metadata": {},
   "outputs": [],
   "source": [
    "from sklearn.datasets import load_breast_cancer\n",
    "from sklearn.model_selection import train_test_split\n",
    "X, y = load_breast_cancer(return_X_y=True)\n",
    "Xtrn, Xtst, ytrn, ytst = train_test_split(X, y, test_size=0.2, shuffle=True, random_state=42)"
   ]
  },
  {
   "cell_type": "markdown",
   "metadata": {},
   "source": [
    "Train a simple Newton boosting classifier using XGBoost"
   ]
  },
  {
   "cell_type": "code",
   "execution_count": 2,
   "metadata": {},
   "outputs": [
    {
     "name": "stderr",
     "output_type": "stream",
     "text": [
      "c:\\users\\gauta\\appdata\\local\\programs\\python\\python36\\lib\\site-packages\\xgboost\\sklearn.py:888: UserWarning: The use of label encoder in XGBClassifier is deprecated and will be removed in a future release. To remove this warning, do the following: 1) Pass option use_label_encoder=False when constructing XGBClassifier object; and 2) Encode your labels (y) as integers starting with 0, i.e. 0, 1, 2, ..., [num_class - 1].\n",
      "  warnings.warn(label_encoder_deprecation_msg, UserWarning)\n"
     ]
    },
    {
     "data": {
      "text/plain": [
       "XGBClassifier(base_score=0.5, booster='gbtree', colsample_bylevel=1,\n",
       "              colsample_bynode=1, colsample_bytree=1, gamma=0, gpu_id=-1,\n",
       "              importance_type='gain', interaction_constraints='',\n",
       "              learning_rate=0.300000012, max_delta_step=0, max_depth=1,\n",
       "              min_child_weight=1, missing=nan, monotone_constraints='()',\n",
       "              n_estimators=20, n_jobs=12, num_parallel_tree=1, random_state=0,\n",
       "              reg_alpha=0, reg_lambda=1, scale_pos_weight=1, subsample=1,\n",
       "              tree_method='exact', validate_parameters=1, verbosity=0)"
      ]
     },
     "execution_count": 2,
     "metadata": {},
     "output_type": "execute_result"
    }
   ],
   "source": [
    "from xgboost import XGBClassifier\n",
    "ens = XGBClassifier(n_estimators=20, max_depth=1, objective='binary:logistic', verbosity=0)\n",
    "ens.fit(Xtrn, ytrn)"
   ]
  },
  {
   "cell_type": "code",
   "execution_count": 3,
   "metadata": {},
   "outputs": [
    {
     "data": {
      "text/plain": [
       "0.9649122807017544"
      ]
     },
     "execution_count": 3,
     "metadata": {},
     "output_type": "execute_result"
    }
   ],
   "source": [
    "from sklearn.metrics import accuracy_score\n",
    "ypred = ens.predict(Xtst)\n",
    "accuracy_score(ytst, ypred)"
   ]
  },
  {
   "cell_type": "code",
   "execution_count": 4,
   "metadata": {},
   "outputs": [
    {
     "data": {
      "text/plain": [
       "0.9649122807017544"
      ]
     },
     "execution_count": 4,
     "metadata": {},
     "output_type": "execute_result"
    }
   ],
   "source": [
    "import xgboost as xgb\n",
    "trn = xgb.DMatrix(Xtrn, label=ytrn)\n",
    "tst = xgb.DMatrix(Xtst, label=ytst)\n",
    "\n",
    "params = {'max_depth': 1, 'objective':'binary:logistic'}\n",
    "ens2 = xgb.train(params, trn, num_boost_round=20)\n",
    "\n",
    "ypred_proba = ens2.predict(tst)\n",
    "ypred = (ypred_proba >= 0.5).astype(int)\n",
    "accuracy_score(ytst, ypred)"
   ]
  },
  {
   "cell_type": "markdown",
   "metadata": {},
   "source": [
    "---\n",
    "## 6.4 XGBoost in Practice"
   ]
  },
  {
   "cell_type": "markdown",
   "metadata": {},
   "source": [
    "### 6.4.1 Learning Rate\n",
    "Like LightGBM, XGBoost also plays nicely with scikit-learn, and we can combine the relevant functionalities from both packages to perform effective model learning.\n",
    "\n",
    "In the experiment below, we repeat the experiment from the previous chapter to combine ``scikit-learn``'s [``StratifiedKFold``](https://scikit-learn.org/stable/modules/generated/sklearn.model_selection.StratifiedKFold.html) class to split the training data into several folds of training and validation sets. ``StratifiedKFold`` ensures that we preserve class distributions, that is, the fractions of different classes across the folds.\n",
    "\n",
    "**Listing 6.5**: Cross Validation with XGBoost and scikit-learn"
   ]
  },
  {
   "cell_type": "code",
   "execution_count": 5,
   "metadata": {},
   "outputs": [
    {
     "name": "stdout",
     "output_type": "stream",
     "text": [
      "[0.02 0.04 0.06 0.08 0.1  0.2  0.4  0.6  0.8  1.   1.2  1.4  1.6  1.8 ]\n"
     ]
    }
   ],
   "source": [
    "import numpy as np\n",
    "from sklearn.model_selection import StratifiedKFold\n",
    "\n",
    "# Initialize choices of learning rates, number of cross-validation folds\n",
    "n_folds = 10\n",
    "learning_rates = np.concatenate([np.linspace(0.02, 0.1, num=5),\n",
    "                                 np.linspace(0.2, 1.8, num=9)])\n",
    "n_learning_rate_steps = len(learning_rates)\n",
    "print(learning_rates)\n",
    "\n",
    "# Split the data into training and validation folds\n",
    "splitter = StratifiedKFold(n_splits=n_folds, shuffle=True, random_state=42)\n",
    "\n",
    "# Initialize some structures to save training and validation errors\n",
    "trn_err = np.zeros((n_learning_rate_steps, n_folds))\n",
    "val_err = np.zeros((n_learning_rate_steps, n_folds))\n",
    "\n",
    "# Train LightGBM classifier for different learning rates and plot the results\n",
    "for i, rate in enumerate(learning_rates):\n",
    "    for j, (trn, val) in enumerate(splitter.split(X, y)):\n",
    "        gbm = XGBClassifier(n_estimators=10, max_depth=1, learning_rate=rate, verbosity=0, use_label_encoder=False)\n",
    "        gbm.fit(X[trn, :], y[trn])\n",
    "\n",
    "        trn_err[i, j] = (1 - accuracy_score(y[trn], gbm.predict(X[trn, :]))) * 100\n",
    "        val_err[i, j] = (1 - accuracy_score(y[val], gbm.predict(X[val, :]))) * 100\n",
    "\n",
    "        \n",
    "trn_err = np.mean(trn_err, axis=1)\n",
    "val_err = np.mean(val_err, axis=1)"
   ]
  },
  {
   "cell_type": "code",
   "execution_count": 6,
   "metadata": {},
   "outputs": [
    {
     "data": {
      "image/png": "[encoded data removed]",
      "text/plain": [
       "<Figure size 360x288 with 1 Axes>"
      ]
     },
     "metadata": {
      "needs_background": "light"
     },
     "output_type": "display_data"
    }
   ],
   "source": [
    "import matplotlib.pyplot as plt\n",
    "from visualization import get_colors\n",
    "cm = get_colors(colormap='RdBu', n_colors=2)\n",
    "\n",
    "%matplotlib inline\n",
    "fig, ax = plt.subplots(nrows=1, ncols=1, figsize=(5, 4))\n",
    "\n",
    "ax.plot(learning_rates, trn_err, marker='o', c=cm[0], markeredgecolor='w', linewidth=2)\n",
    "ax.plot(learning_rates, val_err, marker='s', c=cm[1], markeredgecolor='w', linewidth=2)\n",
    "ax.legend(['Train err', 'Validation err'])\n",
    "ax.set_xlabel('Learning rate')\n",
    "ax.set_ylabel('Error (%)')\n",
    "\n",
    "fig.tight_layout()\n",
    "pngFile = './figures/CH06_F14_Kunapuli.png'\n",
    "plt.savefig(pngFile, dpi=300, pad_inches=0)"
   ]
  },
  {
   "cell_type": "markdown",
   "metadata": {},
   "source": [
    "**Listing 6.6**: Cross Validation with XGBoost"
   ]
  },
  {
   "cell_type": "code",
   "execution_count": 7,
   "metadata": {},
   "outputs": [],
   "source": [
    "import xgboost as xgb\n",
    "\n",
    "# Convert the training and test data into XGBoost.DMatrix format\n",
    "trn = xgb.DMatrix(Xtrn, label=ytrn)\n",
    "tst = xgb.DMatrix(Xtst, label=ytst)\n",
    "\n",
    "params = {'learning_rate': 0.25, 'max_depth': 2, 'objective': 'binary:logistic'}\n",
    "cv_results = xgb.cv(params, trn, num_boost_round=60, nfold=10, metrics={'error'}, seed=42)"
   ]
  },
  {
   "cell_type": "code",
   "execution_count": 8,
   "metadata": {},
   "outputs": [
    {
     "data": {
      "text/html": [
       "<div>\n",
       "<style scoped>\n",
       "    .dataframe tbody tr th:only-of-type {\n",
       "        vertical-align: middle;\n",
       "    }\n",
       "\n",
       "    .dataframe tbody tr th {\n",
       "        vertical-align: top;\n",
       "    }\n",
       "\n",
       "    .dataframe thead th {\n",
       "        text-align: right;\n",
       "    }\n",
       "</style>\n",
       "<table border=\"1\" class=\"dataframe\">\n",
       "  <thead>\n",
       "    <tr style=\"text-align: right;\">\n",
       "      <th></th>\n",
       "      <th>train-error-mean</th>\n",
       "      <th>train-error-std</th>\n",
       "      <th>test-error-mean</th>\n",
       "      <th>test-error-std</th>\n",
       "    </tr>\n",
       "  </thead>\n",
       "  <tbody>\n",
       "    <tr>\n",
       "      <th>0</th>\n",
       "      <td>0.052257</td>\n",
       "      <td>0.013810</td>\n",
       "      <td>0.085700</td>\n",
       "      <td>0.031741</td>\n",
       "    </tr>\n",
       "    <tr>\n",
       "      <th>1</th>\n",
       "      <td>0.042248</td>\n",
       "      <td>0.004104</td>\n",
       "      <td>0.085749</td>\n",
       "      <td>0.036141</td>\n",
       "    </tr>\n",
       "    <tr>\n",
       "      <th>2</th>\n",
       "      <td>0.032970</td>\n",
       "      <td>0.005720</td>\n",
       "      <td>0.065990</td>\n",
       "      <td>0.034372</td>\n",
       "    </tr>\n",
       "    <tr>\n",
       "      <th>3</th>\n",
       "      <td>0.032482</td>\n",
       "      <td>0.004791</td>\n",
       "      <td>0.065990</td>\n",
       "      <td>0.034187</td>\n",
       "    </tr>\n",
       "    <tr>\n",
       "      <th>4</th>\n",
       "      <td>0.030523</td>\n",
       "      <td>0.004249</td>\n",
       "      <td>0.063865</td>\n",
       "      <td>0.035097</td>\n",
       "    </tr>\n",
       "  </tbody>\n",
       "</table>\n",
       "</div>"
      ],
      "text/plain": [
       "   train-error-mean  train-error-std  test-error-mean  test-error-std\n",
       "0          0.052257         0.013810         0.085700        0.031741\n",
       "1          0.042248         0.004104         0.085749        0.036141\n",
       "2          0.032970         0.005720         0.065990        0.034372\n",
       "3          0.032482         0.004791         0.065990        0.034187\n",
       "4          0.030523         0.004249         0.063865        0.035097"
      ]
     },
     "execution_count": 8,
     "metadata": {},
     "output_type": "execute_result"
    }
   ],
   "source": [
    "cv_results.head()"
   ]
  },
  {
   "cell_type": "code",
   "execution_count": 9,
   "metadata": {},
   "outputs": [
    {
     "data": {
      "image/png": "[encoded data removed]",
      "text/plain": [
       "<Figure size 432x288 with 1 Axes>"
      ]
     },
     "metadata": {
      "needs_background": "light"
     },
     "output_type": "display_data"
    }
   ],
   "source": [
    "import numpy as np\n",
    "import matplotlib.pyplot as plt\n",
    "%matplotlib inline\n",
    "\n",
    "n_estimators = 60\n",
    "fig, ax = plt.subplots(nrows=1, ncols=1, figsize=(6, 4))\n",
    "m = cv_results['train-error-mean']\n",
    "s = cv_results['train-error-std']\n",
    "ax.fill_between(range(n_estimators), m + s, m - s, alpha=0.5)\n",
    "ax.plot(range(n_estimators), m, linewidth=3)\n",
    "\n",
    "m = cv_results['test-error-mean']\n",
    "s = cv_results['test-error-std']\n",
    "ax.fill_between(range(n_estimators), m + s, m - s, alpha=0.5)\n",
    "ax.plot(range(n_estimators), m, linestyle='--', linewidth=2)\n",
    "\n",
    "ax.set_xlabel('Number of boosting iterations (estimators)')\n",
    "ax.set_ylabel('Mean/std of 10-fold classification error');\n",
    "ax.legend(['train', 'test'])\n",
    "\n",
    "fig.tight_layout()\n",
    "pngFile = './figures/CH06_F15_Kunapuli.png'\n",
    "plt.savefig(pngFile, dpi=300, pad_inches=0)"
   ]
  },
  {
   "cell_type": "markdown",
   "metadata": {},
   "source": [
    "### 6.4.2 Early Stopping\n",
    "Early stopping with ``XGBoost`` works pretty similarly to LightGBM, where we specify a value for the parameter ``early_stopping_rounds``. As long as the overall score (say accuracy) improves over the last ``early_stopping_rounds``, ``XGBoost`` will continue to train. However, when the score does not improve after ``early_stopping_rounds``, ``XGBoost`` stops.\n",
    "\n",
    "As with ``LightGBM``, ``XGBoost`` requires a validation set\n",
    "\n",
    "**Listing 6.7**: Early Stopping with XGBoost "
   ]
  },
  {
   "cell_type": "code",
   "execution_count": 10,
   "metadata": {},
   "outputs": [
    {
     "name": "stdout",
     "output_type": "stream",
     "text": [
      "[0]\tvalidation_0-auc:0.95480\n",
      "[1]\tvalidation_0-auc:0.96725\n",
      "[2]\tvalidation_0-auc:0.96757\n",
      "[3]\tvalidation_0-auc:0.99017\n",
      "[4]\tvalidation_0-auc:0.99099\n",
      "[5]\tvalidation_0-auc:0.99181\n",
      "[6]\tvalidation_0-auc:0.99410\n",
      "[7]\tvalidation_0-auc:0.99640\n",
      "[8]\tvalidation_0-auc:0.99476\n",
      "[9]\tvalidation_0-auc:0.99148\n",
      "[10]\tvalidation_0-auc:0.99050\n",
      "[11]\tvalidation_0-auc:0.99050\n"
     ]
    },
    {
     "name": "stderr",
     "output_type": "stream",
     "text": [
      "c:\\users\\gauta\\appdata\\local\\programs\\python\\python36\\lib\\site-packages\\xgboost\\sklearn.py:888: UserWarning: The use of label encoder in XGBClassifier is deprecated and will be removed in a future release. To remove this warning, do the following: 1) Pass option use_label_encoder=False when constructing XGBClassifier object; and 2) Encode your labels (y) as integers starting with 0, i.e. 0, 1, 2, ..., [num_class - 1].\n",
      "  warnings.warn(label_encoder_deprecation_msg, UserWarning)\n"
     ]
    },
    {
     "data": {
      "text/plain": [
       "XGBClassifier(base_score=0.5, booster='gbtree', colsample_bylevel=1,\n",
       "              colsample_bynode=1, colsample_bytree=1, gamma=0, gpu_id=-1,\n",
       "              importance_type='gain', interaction_constraints='',\n",
       "              learning_rate=0.300000012, max_delta_step=0, max_depth=2,\n",
       "              min_child_weight=1, missing=nan, monotone_constraints='()',\n",
       "              n_estimators=50, n_jobs=12, num_parallel_tree=1, random_state=0,\n",
       "              reg_alpha=0, reg_lambda=1, scale_pos_weight=1, subsample=1,\n",
       "              tree_method='exact', validate_parameters=1, verbosity=None)"
      ]
     },
     "execution_count": 10,
     "metadata": {},
     "output_type": "execute_result"
    }
   ],
   "source": [
    "# Create a single split of training and validation sets\n",
    "Xtrn, Xval, ytrn, yval = train_test_split(X, y, test_size=0.2, shuffle=True, random_state=42)\n",
    "ens = XGBClassifier(n_estimators=50, max_depth=2, objective='binary:logistic')\n",
    "ens.fit(Xtrn, ytrn, early_stopping_rounds=5, eval_set=[(Xval, yval)], eval_metric='auc')"
   ]
  }
 ],
 "metadata": {
  "kernelspec": {
   "display_name": "Python 3",
   "language": "python",
   "name": "python3"
  },
  "language_info": {
   "codemirror_mode": {
    "name": "ipython",
    "version": 3
   },
   "file_extension": ".py",
   "mimetype": "text/x-python",
   "name": "python",
   "nbconvert_exporter": "python",
   "pygments_lexer": "ipython3",
   "version": "3.6.4"
  }
 },
 "nbformat": 4,
 "nbformat_minor": 2
}
