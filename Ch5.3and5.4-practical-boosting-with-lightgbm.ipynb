{
 "cells": [
  {
   "cell_type": "markdown",
   "metadata": {},
   "source": [
    "_This notebook contains code and comments from Section 5.3 of the book [Ensemble Methods for Machine Learning](https://www.manning.com/books/ensemble-methods-for-machine-learning). Please see the book for additional details on this topic. This notebook and code are released under the [MIT license](https://github.com/gkunapuli/ensemble-methods-notebooks/blob/master/LICENSE)._\n",
    "\n",
    "## 5.3  LightGBM: A Framework for Gradient Boosting \n",
    "\n",
    "[LightGBM](https://lightgbm.readthedocs.io/en/latest/), or Light Gradient Boosted Machines, is an open source gradient boosting framework that was originally developed and released by Microsoft. \n",
    "At its core, LightGBM is essentially a histogram-based gradient boosting approach. However, it also has several modeling and algorithmic features that enable it to handle large-scale data. In particular, LightGBM offers the following advantages:\n",
    "\n",
    "* Algorithmic speedups such as gradient based one-sided sampling and exclusive feature bundling that result in faster training and lower memory usage; these are described in more detail in Section 5.3.1;\n",
    "* Support for a large number of loss functions for classification, regression and ranking as well as application-specific custom loss functions (Section 5.3.2);\n",
    "* Support for parallel and GPU learning, which enables it handle large-scale data sets (parallel/GPU-based machine learning is out-of-scope for this book).\n",
    "\n",
    "\n",
    "### 5.3.2 Gradient Boosting with LightGBM\n",
    "LightGBM is available for various platforms including Windows, Linux and MacOS, and can either be built from scratch or installed using tools such as ``pip``. See the documentation of LightGBM for [installation instructions](https://lightgbm.readthedocs.io/en/latest/). Its usage syntax is quite similar to ``scikit-learn``’s. "
   ]
  },
  {
   "cell_type": "markdown",
   "metadata": {},
   "source": [
    "Continuing with the breast cancer data set from Section 5.2.3, we can learn a gradient boosting model using LightGBM as follows:"
   ]
  },
  {
   "cell_type": "code",
   "execution_count": 1,
   "metadata": {},
   "outputs": [],
   "source": [
    "from sklearn.datasets import load_breast_cancer\n",
    "from sklearn.model_selection import train_test_split\n",
    "X, y = load_breast_cancer(return_X_y=True)\n",
    "Xtrn, Xtst, ytrn, ytst = train_test_split(X, y, test_size=0.2, shuffle=True, random_state=42)"
   ]
  },
  {
   "cell_type": "markdown",
   "metadata": {},
   "source": [
    "Train a gradient boosting classifier using LightGBM"
   ]
  },
  {
   "cell_type": "code",
   "execution_count": 2,
   "metadata": {},
   "outputs": [
    {
     "data": {
      "text/html": [
       "<style>#sk-container-id-1 {color: black;background-color: white;}#sk-container-id-1 pre{padding: 0;}#sk-container-id-1 div.sk-toggleable {background-color: white;}#sk-container-id-1 label.sk-toggleable__label {cursor: pointer;display: block;width: 100%;margin-bottom: 0;padding: 0.3em;box-sizing: border-box;text-align: center;}#sk-container-id-1 label.sk-toggleable__label-arrow:before {content: \"▸\";float: left;margin-right: 0.25em;color: #696969;}#sk-container-id-1 label.sk-toggleable__label-arrow:hover:before {color: black;}#sk-container-id-1 div.sk-estimator:hover label.sk-toggleable__label-arrow:before {color: black;}#sk-container-id-1 div.sk-toggleable__content {max-height: 0;max-width: 0;overflow: hidden;text-align: left;background-color: #f0f8ff;}#sk-container-id-1 div.sk-toggleable__content pre {margin: 0.2em;color: black;border-radius: 0.25em;background-color: #f0f8ff;}#sk-container-id-1 input.sk-toggleable__control:checked~div.sk-toggleable__content {max-height: 200px;max-width: 100%;overflow: auto;}#sk-container-id-1 input.sk-toggleable__control:checked~label.sk-toggleable__label-arrow:before {content: \"▾\";}#sk-container-id-1 div.sk-estimator input.sk-toggleable__control:checked~label.sk-toggleable__label {background-color: #d4ebff;}#sk-container-id-1 div.sk-label input.sk-toggleable__control:checked~label.sk-toggleable__label {background-color: #d4ebff;}#sk-container-id-1 input.sk-hidden--visually {border: 0;clip: rect(1px 1px 1px 1px);clip: rect(1px, 1px, 1px, 1px);height: 1px;margin: -1px;overflow: hidden;padding: 0;position: absolute;width: 1px;}#sk-container-id-1 div.sk-estimator {font-family: monospace;background-color: #f0f8ff;border: 1px dotted black;border-radius: 0.25em;box-sizing: border-box;margin-bottom: 0.5em;}#sk-container-id-1 div.sk-estimator:hover {background-color: #d4ebff;}#sk-container-id-1 div.sk-parallel-item::after {content: \"\";width: 100%;border-bottom: 1px solid gray;flex-grow: 1;}#sk-container-id-1 div.sk-label:hover label.sk-toggleable__label {background-color: #d4ebff;}#sk-container-id-1 div.sk-serial::before {content: \"\";position: absolute;border-left: 1px solid gray;box-sizing: border-box;top: 0;bottom: 0;left: 50%;z-index: 0;}#sk-container-id-1 div.sk-serial {display: flex;flex-direction: column;align-items: center;background-color: white;padding-right: 0.2em;padding-left: 0.2em;position: relative;}#sk-container-id-1 div.sk-item {position: relative;z-index: 1;}#sk-container-id-1 div.sk-parallel {display: flex;align-items: stretch;justify-content: center;background-color: white;position: relative;}#sk-container-id-1 div.sk-item::before, #sk-container-id-1 div.sk-parallel-item::before {content: \"\";position: absolute;border-left: 1px solid gray;box-sizing: border-box;top: 0;bottom: 0;left: 50%;z-index: -1;}#sk-container-id-1 div.sk-parallel-item {display: flex;flex-direction: column;z-index: 1;position: relative;background-color: white;}#sk-container-id-1 div.sk-parallel-item:first-child::after {align-self: flex-end;width: 50%;}#sk-container-id-1 div.sk-parallel-item:last-child::after {align-self: flex-start;width: 50%;}#sk-container-id-1 div.sk-parallel-item:only-child::after {width: 0;}#sk-container-id-1 div.sk-dashed-wrapped {border: 1px dashed gray;margin: 0 0.4em 0.5em 0.4em;box-sizing: border-box;padding-bottom: 0.4em;background-color: white;}#sk-container-id-1 div.sk-label label {font-family: monospace;font-weight: bold;display: inline-block;line-height: 1.2em;}#sk-container-id-1 div.sk-label-container {text-align: center;}#sk-container-id-1 div.sk-container {/* jupyter's `normalize.less` sets `[hidden] { display: none; }` but bootstrap.min.css set `[hidden] { display: none !important; }` so we also need the `!important` here to be able to override the default hidden behavior on the sphinx rendered scikit-learn.org. See: https://github.com/scikit-learn/scikit-learn/issues/21755 */display: inline-block !important;position: relative;}#sk-container-id-1 div.sk-text-repr-fallback {display: none;}</style><div id=\"sk-container-id-1\" class=\"sk-top-container\"><div class=\"sk-text-repr-fallback\"><pre>LGBMClassifier(max_depth=1, n_estimators=20)</pre><b>In a Jupyter environment, please rerun this cell to show the HTML representation or trust the notebook. <br />On GitHub, the HTML representation is unable to render, please try loading this page with nbviewer.org.</b></div><div class=\"sk-container\" hidden><div class=\"sk-item\"><div class=\"sk-estimator sk-toggleable\"><input class=\"sk-toggleable__control sk-hidden--visually\" id=\"sk-estimator-id-1\" type=\"checkbox\" checked><label for=\"sk-estimator-id-1\" class=\"sk-toggleable__label sk-toggleable__label-arrow\">LGBMClassifier</label><div class=\"sk-toggleable__content\"><pre>LGBMClassifier(max_depth=1, n_estimators=20)</pre></div></div></div></div></div>"
      ],
      "text/plain": [
       "LGBMClassifier(max_depth=1, n_estimators=20)"
      ]
     },
     "execution_count": 2,
     "metadata": {},
     "output_type": "execute_result"
    }
   ],
   "source": [
    "from lightgbm import LGBMClassifier\n",
    "gbm = LGBMClassifier(boosting_type='gbdt', n_estimators=20, max_depth=1)\n",
    "gbm.fit(Xtrn, ytrn)"
   ]
  },
  {
   "cell_type": "code",
   "execution_count": 3,
   "metadata": {},
   "outputs": [
    {
     "data": {
      "text/plain": [
       "0.9473684210526315"
      ]
     },
     "execution_count": 3,
     "metadata": {},
     "output_type": "execute_result"
    }
   ],
   "source": [
    "from sklearn.metrics import accuracy_score\n",
    "ypred = gbm.predict(Xtst)\n",
    "accuracy_score(ytst, ypred)"
   ]
  },
  {
   "cell_type": "markdown",
   "metadata": {},
   "source": [
    "---\n",
    "\n",
    "## 5.4 LigthGBM in Practice\n",
    "\n",
    "As with any ML algorithm, we need to ensure that we avoid overfitting during training. We look to set the learning rate (Section 5.4.1) or employ early stopping (Section 5.4.2) as a means to control overfitting. Specifically,  \n",
    "* by selecting an effective learning rate, we try to control the rate at which the model learns so that it doesn’t rapidly fit, and then overfit the training data. We can think of this a proactive modeling approach, where we try to identify a good training strategy so that it leads to a good model. \n",
    "* by enforcing early stopping, we try to stop training as soon as we observe that the model is starting to overfit. We can think of this as a reactive modeling approach, where we contemplate terminating training as soon as we think we have a good model.\n",
    "\n",
    "### 5.4.1 Learning Rate\n",
    "As with AdaBoost, we can aim to avoid overfitting by training with an appropriate [learning rate](https://lightgbm.readthedocs.io/en/latest/Parameters.html#learning_rate), which adjusts the contribution of each estimator to the ensemble. ``LightGBM`` plays nicely with ``scikit-learn``, and we can combine the relevant functionalities from both packages to perform effective model learning.\n",
    "\n",
    "LightGBM provides its own functionality to perform cross validation (CV) with given parameter choices through a function called ``cv``. \n",
    "\n",
    "**Listing 5.5**: Cross Validation with LightGBM and scikit-learn"
   ]
  },
  {
   "cell_type": "code",
   "execution_count": 4,
   "metadata": {},
   "outputs": [
    {
     "name": "stdout",
     "output_type": "stream",
     "text": [
      "[LightGBM] [Info] [cross_entropy:Init]: (objective) labels passed interval [0, 1] check\n",
      "[LightGBM] [Info] [cross_entropy:Init]: (metric) labels passed interval [0, 1] check\n",
      "[LightGBM] [Info] [cross_entropy:Init]: sum-of-weights = 364.000000\n",
      "[LightGBM] [Warning] Auto-choosing col-wise multi-threading, the overhead of testing was 0.000855 seconds.\n",
      "You can set `force_col_wise=true` to remove the overhead.\n",
      "[LightGBM] [Info] Total Bins 4548\n",
      "[LightGBM] [Info] Number of data points in the train set: 364, number of used features: 30\n",
      "[LightGBM] [Info] [cross_entropy:Init]: (metric) labels passed interval [0, 1] check\n",
      "[LightGBM] [Info] [cross_entropy:Init]: sum-of-weights = 91.000000\n",
      "[LightGBM] [Info] [cross_entropy:Init]: (objective) labels passed interval [0, 1] check\n",
      "[LightGBM] [Info] [cross_entropy:Init]: (metric) labels passed interval [0, 1] check\n",
      "[LightGBM] [Info] [cross_entropy:Init]: sum-of-weights = 364.000000\n",
      "[LightGBM] [Warning] Auto-choosing col-wise multi-threading, the overhead of testing was 0.000482 seconds.\n",
      "You can set `force_col_wise=true` to remove the overhead.\n",
      "[LightGBM] [Info] Total Bins 4548\n",
      "[LightGBM] [Info] Number of data points in the train set: 364, number of used features: 30\n",
      "[LightGBM] [Info] [cross_entropy:Init]: (metric) labels passed interval [0, 1] check\n",
      "[LightGBM] [Info] [cross_entropy:Init]: sum-of-weights = 91.000000\n",
      "[LightGBM] [Info] [cross_entropy:Init]: (objective) labels passed interval [0, 1] check\n",
      "[LightGBM] [Info] [cross_entropy:Init]: (metric) labels passed interval [0, 1] check\n",
      "[LightGBM] [Info] [cross_entropy:Init]: sum-of-weights = 364.000000\n",
      "[LightGBM] [Warning] Auto-choosing col-wise multi-threading, the overhead of testing was 0.000889 seconds.\n",
      "You can set `force_col_wise=true` to remove the overhead.\n",
      "[LightGBM] [Info] Total Bins 4548\n",
      "[LightGBM] [Info] Number of data points in the train set: 364, number of used features: 30\n",
      "[LightGBM] [Info] [cross_entropy:Init]: (metric) labels passed interval [0, 1] check\n",
      "[LightGBM] [Info] [cross_entropy:Init]: sum-of-weights = 91.000000\n",
      "[LightGBM] [Info] [cross_entropy:Init]: (objective) labels passed interval [0, 1] check\n",
      "[LightGBM] [Info] [cross_entropy:Init]: (metric) labels passed interval [0, 1] check\n",
      "[LightGBM] [Info] [cross_entropy:Init]: sum-of-weights = 364.000000\n",
      "[LightGBM] [Warning] Auto-choosing col-wise multi-threading, the overhead of testing was 0.000828 seconds.\n",
      "You can set `force_col_wise=true` to remove the overhead.\n",
      "[LightGBM] [Info] Total Bins 4548\n",
      "[LightGBM] [Info] Number of data points in the train set: 364, number of used features: 30\n",
      "[LightGBM] [Info] [cross_entropy:Init]: (metric) labels passed interval [0, 1] check\n",
      "[LightGBM] [Info] [cross_entropy:Init]: sum-of-weights = 91.000000\n",
      "[LightGBM] [Info] [cross_entropy:Init]: (objective) labels passed interval [0, 1] check\n",
      "[LightGBM] [Info] [cross_entropy:Init]: (metric) labels passed interval [0, 1] check\n",
      "[LightGBM] [Info] [cross_entropy:Init]: sum-of-weights = 364.000000\n",
      "[LightGBM] [Warning] Auto-choosing col-wise multi-threading, the overhead of testing was 0.000395 seconds.\n",
      "You can set `force_col_wise=true` to remove the overhead.\n",
      "[LightGBM] [Info] Total Bins 4548\n",
      "[LightGBM] [Info] Number of data points in the train set: 364, number of used features: 30\n",
      "[LightGBM] [Info] [cross_entropy:Init]: (metric) labels passed interval [0, 1] check\n",
      "[LightGBM] [Info] [cross_entropy:Init]: sum-of-weights = 91.000000\n",
      "[LightGBM] [Info] [cross_entropy:BoostFromScore]: pavg = 0.626374 -> initscore = 0.516691\n",
      "[LightGBM] [Info] Start training from score 0.516691\n",
      "[LightGBM] [Info] [cross_entropy:BoostFromScore]: pavg = 0.629121 -> initscore = 0.528447\n",
      "[LightGBM] [Info] Start training from score 0.528447\n",
      "[LightGBM] [Info] [cross_entropy:BoostFromScore]: pavg = 0.629121 -> initscore = 0.528447\n",
      "[LightGBM] [Info] Start training from score 0.528447\n",
      "[LightGBM] [Info] [cross_entropy:BoostFromScore]: pavg = 0.629121 -> initscore = 0.528447\n",
      "[LightGBM] [Info] Start training from score 0.528447\n",
      "[LightGBM] [Info] [cross_entropy:BoostFromScore]: pavg = 0.629121 -> initscore = 0.528447\n",
      "[LightGBM] [Info] Start training from score 0.528447\n"
     ]
    },
    {
     "data": {
      "image/png": "[encoded data removed]",
      "text/plain": [
       "<Figure size 432x288 with 1 Axes>"
      ]
     },
     "metadata": {
      "needs_background": "light"
     },
     "output_type": "display_data"
    }
   ],
   "source": [
    "from lightgbm import cv, Dataset\n",
    "\n",
    "trn_data = Dataset(Xtrn, label=ytrn)\n",
    "params = {'boosting_type': 'gbdt', 'learning_rate': 0.25, \n",
    "          'max_depth': 1, 'objective': 'cross_entropy'}\n",
    "\n",
    "cv_results = cv(params, trn_data, \n",
    "                num_boost_round=100,\n",
    "                nfold=5, stratified=True, shuffle=True)\n",
    "\n",
    "import numpy as np\n",
    "import matplotlib.pyplot as plt\n",
    "\n",
    "fig, ax = plt.subplots(nrows=1, ncols=1, figsize=(6, 4))\n",
    "m = np.array(cv_results['cross_entropy-mean'])\n",
    "s = np.array(cv_results['cross_entropy-stdv'])\n",
    "ax.fill_between(range(100), m + s, m - s, alpha=0.5)\n",
    "ax.plot(range(100), m, linewidth=3)\n",
    "ax.set_xlabel('Number of boosting iterations (estimators)', fontsize=12)\n",
    "ax.set_ylabel('Mean & std of 5-fold cross entropy', fontsize=12);\n",
    "\n",
    "fig.tight_layout()\n",
    "# plt.savefig('./figures/CH05_F19_Kunapuli.png', format='png', dpi=300, pad_inches=0)\n",
    "# plt.savefig('./figures/CH05_F19_Kunapuli.pdf', format='pdf', dpi=300, pad_inches=0)"
   ]
  },
  {
   "cell_type": "markdown",
   "metadata": {},
   "source": [
    "Alternately, LightGBM plays nicely with scikit-learn, and we can combine the relevant functionalities from both packages to perform effective model learning.\n",
    "\n",
    "In the experiment below, we combine ``scikit-learn``'s [``StratifiedKFold``](https://scikit-learn.org/stable/modules/generated/sklearn.model_selection.StratifiedKFold.html) class to split the training data into several folds of training and validation sets. ``StratifiedKFold`` ensures that we preserve class distributions, that is, the fractions of different classes across the folds.\n",
    "\n",
    "**Listing 5.4**: Cross Validation with LightGBM and scikit-learn"
   ]
  },
  {
   "cell_type": "code",
   "execution_count": 5,
   "metadata": {},
   "outputs": [],
   "source": [
    "from sklearn.model_selection import StratifiedKFold\n",
    "import numpy as np\n",
    "\n",
    "# Initialize choices of learning rates, number of cross-validation folds\n",
    "n_learning_rate_steps, n_folds = 10, 10\n",
    "learning_rates = np.linspace(0.1, 1.0, num=n_learning_rate_steps)\n",
    "\n",
    "# Split the data into training and validation folds\n",
    "splitter = StratifiedKFold(n_splits=n_folds, shuffle=True, random_state=42)\n",
    "\n",
    "# Initialize some structures to save training and validation errors\n",
    "trn_err = np.zeros((n_learning_rate_steps, n_folds))\n",
    "val_err = np.zeros((n_learning_rate_steps, n_folds))\n",
    "\n",
    "# Train LightGBM classifier for different learning rates and plot the results\n",
    "for i, rate in enumerate(learning_rates):\n",
    "    for j, (trn, val) in enumerate(splitter.split(X, y)):\n",
    "        gbm = LGBMClassifier(boosting_type='gbdt', n_estimators=10, max_depth=1, learning_rate=rate)\n",
    "        gbm.fit(X[trn, :], y[trn])\n",
    "\n",
    "        trn_err[i, j] = (1 - accuracy_score(y[trn], gbm.predict(X[trn, :]))) * 100\n",
    "        val_err[i, j] = (1 - accuracy_score(y[val], gbm.predict(X[val, :]))) * 100\n",
    "\n",
    "        \n",
    "trn_err = np.mean(trn_err, axis=1)\n",
    "val_err = np.mean(val_err, axis=1)"
   ]
  },
  {
   "cell_type": "code",
   "execution_count": 6,
   "metadata": {},
   "outputs": [
    {
     "data": {
      "image/png": "[encoded data removed]",
      "text/plain": [
       "<Figure size 360x288 with 1 Axes>"
      ]
     },
     "metadata": {
      "needs_background": "light"
     },
     "output_type": "display_data"
    }
   ],
   "source": [
    "import matplotlib.pyplot as plt\n",
    "\n",
    "fig, ax = plt.subplots(nrows=1, ncols=1, figsize=(5, 4))\n",
    "\n",
    "ax.plot(learning_rates, trn_err, linewidth=1.5, marker='o', markersize=9, mfc='w', label='Training error');\n",
    "ax.plot(learning_rates, val_err, linewidth=1.5, marker='s', markersize=9, mfc='w', label='Validation error');\n",
    "ax.legend(fontsize=12)\n",
    "ax.set_xlabel('Learning rate', fontsize=12)\n",
    "ax.set_ylabel('Error (%)', fontsize=12)\n",
    "\n",
    "fig.tight_layout()\n",
    "# plt.savefig('./figures/CH05_F18_Kunapuli.png', format='png', dpi=300, pad_inches=0)\n",
    "# plt.savefig('./figures/CH05_F18_Kunapuli.pdf', format='pdf', dpi=300, pad_inches=0)"
   ]
  },
  {
   "cell_type": "markdown",
   "metadata": {},
   "source": [
    "### 5.4.2\tEarly Stopping\n",
    "\n",
    "As with AdaBoost, the other important consideration for practical boosting is the number of base learners, which can be hard to specifiy ahead of time. Identifying the least number of base estimators in order to build an effective ensemble is known as early stopping. \n",
    "\n",
    "[Early stopping](https://lightgbm.readthedocs.io/en/latest/Parameters.html#early_stopping_round) with ``LightGBM`` works slightly differently than AdaBoost. In ``LightGBM``, we specify a value for the parameter ``early_stopping_rounds``. As long as the overall score (say accuracy) improves over the last ``early_stopping_rounds``, ``LightGBM`` will continue to train. However, when the score does not improve after ``early_stopping_rounds``, ``LightGBM`` stops.\n",
    "\n",
    "Small values of ``early_stopping_rounds`` make ``LightGBM`` very \"impatient\" and aggressive in that it does not wait too long to see if there is any improvement before stopping learning early. This may lead to underfitting. Large values of ``early_stopping_rounds`` make ``LightGBM`` overly patient and too passive in that it waits for longer periods to see if there is any improvement. This may lead to overfitting.\n",
    "\n",
    "``LightGBM`` needs us to **explicitly specify a validation set as well as [scoring metric](https://lightgbm.readthedocs.io/en/latest/Parameters.html#metric)**. In the experiment below, we split the training data further into a smaller training set and a separate validation set for early stopping. The metric we will use is accuracy score.\n",
    "\n",
    "**Listing 5.6**: Early Stopping with LightGBM"
   ]
  },
  {
   "cell_type": "code",
   "execution_count": 7,
   "metadata": {},
   "outputs": [
    {
     "name": "stdout",
     "output_type": "stream",
     "text": [
      "[LightGBM] [Warning] early_stopping_round is set=5, early_stopping=5 will be ignored. Current value: early_stopping_round=5\n",
      "[1]\tvalid_0's auc: 0.885522\tvalid_0's binary_logloss: 0.602321\n",
      "[2]\tvalid_0's auc: 0.961022\tvalid_0's binary_logloss: 0.542925\n",
      "[3]\tvalid_0's auc: 0.96528\tvalid_0's binary_logloss: 0.497678\n",
      "[4]\tvalid_0's auc: 0.989846\tvalid_0's binary_logloss: 0.451922\n",
      "[5]\tvalid_0's auc: 0.986243\tvalid_0's binary_logloss: 0.421817\n",
      "[6]\tvalid_0's auc: 0.985588\tvalid_0's binary_logloss: 0.393713\n",
      "[7]\tvalid_0's auc: 0.989846\tvalid_0's binary_logloss: 0.364781\n",
      "[8]\tvalid_0's auc: 0.990501\tvalid_0's binary_logloss: 0.338063\n",
      "[9]\tvalid_0's auc: 0.989191\tvalid_0's binary_logloss: 0.319267\n",
      "[10]\tvalid_0's auc: 0.990501\tvalid_0's binary_logloss: 0.299509\n",
      "[11]\tvalid_0's auc: 0.989519\tvalid_0's binary_logloss: 0.286114\n",
      "[12]\tvalid_0's auc: 0.989519\tvalid_0's binary_logloss: 0.269481\n",
      "[13]\tvalid_0's auc: 0.992303\tvalid_0's binary_logloss: 0.255033\n",
      "[14]\tvalid_0's auc: 0.993285\tvalid_0's binary_logloss: 0.241218\n",
      "[15]\tvalid_0's auc: 0.992958\tvalid_0's binary_logloss: 0.231917\n",
      "[16]\tvalid_0's auc: 0.993285\tvalid_0's binary_logloss: 0.221174\n",
      "[17]\tvalid_0's auc: 0.994923\tvalid_0's binary_logloss: 0.210735\n",
      "[18]\tvalid_0's auc: 0.994595\tvalid_0's binary_logloss: 0.204185\n",
      "[19]\tvalid_0's auc: 0.994595\tvalid_0's binary_logloss: 0.195894\n",
      "[20]\tvalid_0's auc: 0.994595\tvalid_0's binary_logloss: 0.187605\n",
      "[21]\tvalid_0's auc: 0.995414\tvalid_0's binary_logloss: 0.183288\n",
      "[22]\tvalid_0's auc: 0.995087\tvalid_0's binary_logloss: 0.177604\n",
      "[23]\tvalid_0's auc: 0.995414\tvalid_0's binary_logloss: 0.170961\n",
      "[24]\tvalid_0's auc: 0.995087\tvalid_0's binary_logloss: 0.167818\n",
      "[25]\tvalid_0's auc: 0.995742\tvalid_0's binary_logloss: 0.165031\n",
      "[26]\tvalid_0's auc: 0.995742\tvalid_0's binary_logloss: 0.158768\n",
      "[27]\tvalid_0's auc: 0.996069\tvalid_0's binary_logloss: 0.156152\n",
      "[28]\tvalid_0's auc: 0.996069\tvalid_0's binary_logloss: 0.153942\n",
      "[29]\tvalid_0's auc: 0.996069\tvalid_0's binary_logloss: 0.15031\n",
      "[30]\tvalid_0's auc: 0.996069\tvalid_0's binary_logloss: 0.145113\n",
      "[31]\tvalid_0's auc: 0.995742\tvalid_0's binary_logloss: 0.143901\n",
      "[32]\tvalid_0's auc: 0.996069\tvalid_0's binary_logloss: 0.139801\n"
     ]
    },
    {
     "data": {
      "text/html": [
       "<style>#sk-container-id-2 {color: black;background-color: white;}#sk-container-id-2 pre{padding: 0;}#sk-container-id-2 div.sk-toggleable {background-color: white;}#sk-container-id-2 label.sk-toggleable__label {cursor: pointer;display: block;width: 100%;margin-bottom: 0;padding: 0.3em;box-sizing: border-box;text-align: center;}#sk-container-id-2 label.sk-toggleable__label-arrow:before {content: \"▸\";float: left;margin-right: 0.25em;color: #696969;}#sk-container-id-2 label.sk-toggleable__label-arrow:hover:before {color: black;}#sk-container-id-2 div.sk-estimator:hover label.sk-toggleable__label-arrow:before {color: black;}#sk-container-id-2 div.sk-toggleable__content {max-height: 0;max-width: 0;overflow: hidden;text-align: left;background-color: #f0f8ff;}#sk-container-id-2 div.sk-toggleable__content pre {margin: 0.2em;color: black;border-radius: 0.25em;background-color: #f0f8ff;}#sk-container-id-2 input.sk-toggleable__control:checked~div.sk-toggleable__content {max-height: 200px;max-width: 100%;overflow: auto;}#sk-container-id-2 input.sk-toggleable__control:checked~label.sk-toggleable__label-arrow:before {content: \"▾\";}#sk-container-id-2 div.sk-estimator input.sk-toggleable__control:checked~label.sk-toggleable__label {background-color: #d4ebff;}#sk-container-id-2 div.sk-label input.sk-toggleable__control:checked~label.sk-toggleable__label {background-color: #d4ebff;}#sk-container-id-2 input.sk-hidden--visually {border: 0;clip: rect(1px 1px 1px 1px);clip: rect(1px, 1px, 1px, 1px);height: 1px;margin: -1px;overflow: hidden;padding: 0;position: absolute;width: 1px;}#sk-container-id-2 div.sk-estimator {font-family: monospace;background-color: #f0f8ff;border: 1px dotted black;border-radius: 0.25em;box-sizing: border-box;margin-bottom: 0.5em;}#sk-container-id-2 div.sk-estimator:hover {background-color: #d4ebff;}#sk-container-id-2 div.sk-parallel-item::after {content: \"\";width: 100%;border-bottom: 1px solid gray;flex-grow: 1;}#sk-container-id-2 div.sk-label:hover label.sk-toggleable__label {background-color: #d4ebff;}#sk-container-id-2 div.sk-serial::before {content: \"\";position: absolute;border-left: 1px solid gray;box-sizing: border-box;top: 0;bottom: 0;left: 50%;z-index: 0;}#sk-container-id-2 div.sk-serial {display: flex;flex-direction: column;align-items: center;background-color: white;padding-right: 0.2em;padding-left: 0.2em;position: relative;}#sk-container-id-2 div.sk-item {position: relative;z-index: 1;}#sk-container-id-2 div.sk-parallel {display: flex;align-items: stretch;justify-content: center;background-color: white;position: relative;}#sk-container-id-2 div.sk-item::before, #sk-container-id-2 div.sk-parallel-item::before {content: \"\";position: absolute;border-left: 1px solid gray;box-sizing: border-box;top: 0;bottom: 0;left: 50%;z-index: -1;}#sk-container-id-2 div.sk-parallel-item {display: flex;flex-direction: column;z-index: 1;position: relative;background-color: white;}#sk-container-id-2 div.sk-parallel-item:first-child::after {align-self: flex-end;width: 50%;}#sk-container-id-2 div.sk-parallel-item:last-child::after {align-self: flex-start;width: 50%;}#sk-container-id-2 div.sk-parallel-item:only-child::after {width: 0;}#sk-container-id-2 div.sk-dashed-wrapped {border: 1px dashed gray;margin: 0 0.4em 0.5em 0.4em;box-sizing: border-box;padding-bottom: 0.4em;background-color: white;}#sk-container-id-2 div.sk-label label {font-family: monospace;font-weight: bold;display: inline-block;line-height: 1.2em;}#sk-container-id-2 div.sk-label-container {text-align: center;}#sk-container-id-2 div.sk-container {/* jupyter's `normalize.less` sets `[hidden] { display: none; }` but bootstrap.min.css set `[hidden] { display: none !important; }` so we also need the `!important` here to be able to override the default hidden behavior on the sphinx rendered scikit-learn.org. See: https://github.com/scikit-learn/scikit-learn/issues/21755 */display: inline-block !important;position: relative;}#sk-container-id-2 div.sk-text-repr-fallback {display: none;}</style><div id=\"sk-container-id-2\" class=\"sk-top-container\"><div class=\"sk-text-repr-fallback\"><pre>LGBMClassifier(early_stopping=5, max_depth=1, n_estimators=50)</pre><b>In a Jupyter environment, please rerun this cell to show the HTML representation or trust the notebook. <br />On GitHub, the HTML representation is unable to render, please try loading this page with nbviewer.org.</b></div><div class=\"sk-container\" hidden><div class=\"sk-item\"><div class=\"sk-estimator sk-toggleable\"><input class=\"sk-toggleable__control sk-hidden--visually\" id=\"sk-estimator-id-2\" type=\"checkbox\" checked><label for=\"sk-estimator-id-2\" class=\"sk-toggleable__label sk-toggleable__label-arrow\">LGBMClassifier</label><div class=\"sk-toggleable__content\"><pre>LGBMClassifier(early_stopping=5, max_depth=1, n_estimators=50)</pre></div></div></div></div></div>"
      ],
      "text/plain": [
       "LGBMClassifier(early_stopping=5, max_depth=1, n_estimators=50)"
      ]
     },
     "execution_count": 7,
     "metadata": {},
     "output_type": "execute_result"
    }
   ],
   "source": [
    "# Create a single split of training and validation sets\n",
    "Xtrn, Xval, ytrn, yval = train_test_split(X, y, test_size=0.2, shuffle=True, random_state=42)\n",
    "gbm = LGBMClassifier(boosting_type='gbdt', n_estimators=50, max_depth=1, early_stopping=5)\n",
    "gbm.fit(Xtrn, ytrn, eval_set=[(Xval, yval)], eval_metric='auc')"
   ]
  },
  {
   "cell_type": "markdown",
   "metadata": {},
   "source": [
    "We also visualize the training and validation errors as well as the ensemble size for different choices of early_stopping_rounds."
   ]
  },
  {
   "cell_type": "code",
   "execution_count": 8,
   "metadata": {},
   "outputs": [
    {
     "name": "stdout",
     "output_type": "stream",
     "text": [
      "[1]\tvalid_0's auc: 0.885522\tvalid_0's binary_logloss: 0.602321\n",
      "[2]\tvalid_0's auc: 0.961022\tvalid_0's binary_logloss: 0.542925\n",
      "[3]\tvalid_0's auc: 0.96528\tvalid_0's binary_logloss: 0.497678\n",
      "[4]\tvalid_0's auc: 0.989846\tvalid_0's binary_logloss: 0.451922\n",
      "[5]\tvalid_0's auc: 0.986243\tvalid_0's binary_logloss: 0.421817\n",
      "[LightGBM] [Warning] early_stopping_round is set=2, early_stopping=2 will be ignored. Current value: early_stopping_round=2\n",
      "[1]\tvalid_0's auc: 0.885522\tvalid_0's binary_logloss: 0.602321\n",
      "[2]\tvalid_0's auc: 0.961022\tvalid_0's binary_logloss: 0.542925\n",
      "[3]\tvalid_0's auc: 0.96528\tvalid_0's binary_logloss: 0.497678\n",
      "[4]\tvalid_0's auc: 0.989846\tvalid_0's binary_logloss: 0.451922\n",
      "[5]\tvalid_0's auc: 0.986243\tvalid_0's binary_logloss: 0.421817\n",
      "[6]\tvalid_0's auc: 0.985588\tvalid_0's binary_logloss: 0.393713\n",
      "[LightGBM] [Warning] early_stopping_round is set=3, early_stopping=3 will be ignored. Current value: early_stopping_round=3\n",
      "[1]\tvalid_0's auc: 0.885522\tvalid_0's binary_logloss: 0.602321\n",
      "[2]\tvalid_0's auc: 0.961022\tvalid_0's binary_logloss: 0.542925\n",
      "[3]\tvalid_0's auc: 0.96528\tvalid_0's binary_logloss: 0.497678\n",
      "[4]\tvalid_0's auc: 0.989846\tvalid_0's binary_logloss: 0.451922\n",
      "[5]\tvalid_0's auc: 0.986243\tvalid_0's binary_logloss: 0.421817\n",
      "[6]\tvalid_0's auc: 0.985588\tvalid_0's binary_logloss: 0.393713\n",
      "[7]\tvalid_0's auc: 0.989846\tvalid_0's binary_logloss: 0.364781\n",
      "[LightGBM] [Warning] early_stopping_round is set=4, early_stopping=4 will be ignored. Current value: early_stopping_round=4\n",
      "[1]\tvalid_0's auc: 0.885522\tvalid_0's binary_logloss: 0.602321\n",
      "[2]\tvalid_0's auc: 0.961022\tvalid_0's binary_logloss: 0.542925\n",
      "[3]\tvalid_0's auc: 0.96528\tvalid_0's binary_logloss: 0.497678\n",
      "[4]\tvalid_0's auc: 0.989846\tvalid_0's binary_logloss: 0.451922\n",
      "[5]\tvalid_0's auc: 0.986243\tvalid_0's binary_logloss: 0.421817\n",
      "[6]\tvalid_0's auc: 0.985588\tvalid_0's binary_logloss: 0.393713\n",
      "[7]\tvalid_0's auc: 0.989846\tvalid_0's binary_logloss: 0.364781\n",
      "[8]\tvalid_0's auc: 0.990501\tvalid_0's binary_logloss: 0.338063\n",
      "[9]\tvalid_0's auc: 0.989191\tvalid_0's binary_logloss: 0.319267\n",
      "[10]\tvalid_0's auc: 0.990501\tvalid_0's binary_logloss: 0.299509\n",
      "[11]\tvalid_0's auc: 0.989519\tvalid_0's binary_logloss: 0.286114\n",
      "[12]\tvalid_0's auc: 0.989519\tvalid_0's binary_logloss: 0.269481\n",
      "[LightGBM] [Warning] early_stopping_round is set=5, early_stopping=5 will be ignored. Current value: early_stopping_round=5\n",
      "[1]\tvalid_0's auc: 0.885522\tvalid_0's binary_logloss: 0.602321\n",
      "[2]\tvalid_0's auc: 0.961022\tvalid_0's binary_logloss: 0.542925\n",
      "[3]\tvalid_0's auc: 0.96528\tvalid_0's binary_logloss: 0.497678\n",
      "[4]\tvalid_0's auc: 0.989846\tvalid_0's binary_logloss: 0.451922\n",
      "[5]\tvalid_0's auc: 0.986243\tvalid_0's binary_logloss: 0.421817\n",
      "[6]\tvalid_0's auc: 0.985588\tvalid_0's binary_logloss: 0.393713\n",
      "[7]\tvalid_0's auc: 0.989846\tvalid_0's binary_logloss: 0.364781\n",
      "[8]\tvalid_0's auc: 0.990501\tvalid_0's binary_logloss: 0.338063\n",
      "[9]\tvalid_0's auc: 0.989191\tvalid_0's binary_logloss: 0.319267\n",
      "[10]\tvalid_0's auc: 0.990501\tvalid_0's binary_logloss: 0.299509\n",
      "[11]\tvalid_0's auc: 0.989519\tvalid_0's binary_logloss: 0.286114\n",
      "[12]\tvalid_0's auc: 0.989519\tvalid_0's binary_logloss: 0.269481\n",
      "[13]\tvalid_0's auc: 0.992303\tvalid_0's binary_logloss: 0.255033\n",
      "[14]\tvalid_0's auc: 0.993285\tvalid_0's binary_logloss: 0.241218\n",
      "[15]\tvalid_0's auc: 0.992958\tvalid_0's binary_logloss: 0.231917\n",
      "[16]\tvalid_0's auc: 0.993285\tvalid_0's binary_logloss: 0.221174\n",
      "[17]\tvalid_0's auc: 0.994923\tvalid_0's binary_logloss: 0.210735\n",
      "[18]\tvalid_0's auc: 0.994595\tvalid_0's binary_logloss: 0.204185\n",
      "[19]\tvalid_0's auc: 0.994595\tvalid_0's binary_logloss: 0.195894\n",
      "[20]\tvalid_0's auc: 0.994595\tvalid_0's binary_logloss: 0.187605\n",
      "[21]\tvalid_0's auc: 0.995414\tvalid_0's binary_logloss: 0.183288\n",
      "[22]\tvalid_0's auc: 0.995087\tvalid_0's binary_logloss: 0.177604\n",
      "[23]\tvalid_0's auc: 0.995414\tvalid_0's binary_logloss: 0.170961\n",
      "[24]\tvalid_0's auc: 0.995087\tvalid_0's binary_logloss: 0.167818\n",
      "[25]\tvalid_0's auc: 0.995742\tvalid_0's binary_logloss: 0.165031\n",
      "[26]\tvalid_0's auc: 0.995742\tvalid_0's binary_logloss: 0.158768\n",
      "[27]\tvalid_0's auc: 0.996069\tvalid_0's binary_logloss: 0.156152\n",
      "[28]\tvalid_0's auc: 0.996069\tvalid_0's binary_logloss: 0.153942\n",
      "[29]\tvalid_0's auc: 0.996069\tvalid_0's binary_logloss: 0.15031\n",
      "[30]\tvalid_0's auc: 0.996069\tvalid_0's binary_logloss: 0.145113\n",
      "[31]\tvalid_0's auc: 0.995742\tvalid_0's binary_logloss: 0.143901\n",
      "[32]\tvalid_0's auc: 0.996069\tvalid_0's binary_logloss: 0.139801\n",
      "[LightGBM] [Warning] early_stopping_round is set=6, early_stopping=6 will be ignored. Current value: early_stopping_round=6\n",
      "[1]\tvalid_0's auc: 0.885522\tvalid_0's binary_logloss: 0.602321\n",
      "[2]\tvalid_0's auc: 0.961022\tvalid_0's binary_logloss: 0.542925\n",
      "[3]\tvalid_0's auc: 0.96528\tvalid_0's binary_logloss: 0.497678\n",
      "[4]\tvalid_0's auc: 0.989846\tvalid_0's binary_logloss: 0.451922\n",
      "[5]\tvalid_0's auc: 0.986243\tvalid_0's binary_logloss: 0.421817\n",
      "[6]\tvalid_0's auc: 0.985588\tvalid_0's binary_logloss: 0.393713\n",
      "[7]\tvalid_0's auc: 0.989846\tvalid_0's binary_logloss: 0.364781\n",
      "[8]\tvalid_0's auc: 0.990501\tvalid_0's binary_logloss: 0.338063\n",
      "[9]\tvalid_0's auc: 0.989191\tvalid_0's binary_logloss: 0.319267\n",
      "[10]\tvalid_0's auc: 0.990501\tvalid_0's binary_logloss: 0.299509\n",
      "[11]\tvalid_0's auc: 0.989519\tvalid_0's binary_logloss: 0.286114\n",
      "[12]\tvalid_0's auc: 0.989519\tvalid_0's binary_logloss: 0.269481\n",
      "[13]\tvalid_0's auc: 0.992303\tvalid_0's binary_logloss: 0.255033\n",
      "[14]\tvalid_0's auc: 0.993285\tvalid_0's binary_logloss: 0.241218\n",
      "[15]\tvalid_0's auc: 0.992958\tvalid_0's binary_logloss: 0.231917\n",
      "[16]\tvalid_0's auc: 0.993285\tvalid_0's binary_logloss: 0.221174\n",
      "[17]\tvalid_0's auc: 0.994923\tvalid_0's binary_logloss: 0.210735\n",
      "[18]\tvalid_0's auc: 0.994595\tvalid_0's binary_logloss: 0.204185\n",
      "[19]\tvalid_0's auc: 0.994595\tvalid_0's binary_logloss: 0.195894\n",
      "[20]\tvalid_0's auc: 0.994595\tvalid_0's binary_logloss: 0.187605\n",
      "[21]\tvalid_0's auc: 0.995414\tvalid_0's binary_logloss: 0.183288\n",
      "[22]\tvalid_0's auc: 0.995087\tvalid_0's binary_logloss: 0.177604\n",
      "[23]\tvalid_0's auc: 0.995414\tvalid_0's binary_logloss: 0.170961\n",
      "[24]\tvalid_0's auc: 0.995087\tvalid_0's binary_logloss: 0.167818\n",
      "[25]\tvalid_0's auc: 0.995742\tvalid_0's binary_logloss: 0.165031\n",
      "[26]\tvalid_0's auc: 0.995742\tvalid_0's binary_logloss: 0.158768\n",
      "[27]\tvalid_0's auc: 0.996069\tvalid_0's binary_logloss: 0.156152\n",
      "[28]\tvalid_0's auc: 0.996069\tvalid_0's binary_logloss: 0.153942\n",
      "[29]\tvalid_0's auc: 0.996069\tvalid_0's binary_logloss: 0.15031\n",
      "[30]\tvalid_0's auc: 0.996069\tvalid_0's binary_logloss: 0.145113\n",
      "[31]\tvalid_0's auc: 0.995742\tvalid_0's binary_logloss: 0.143901\n",
      "[32]\tvalid_0's auc: 0.996069\tvalid_0's binary_logloss: 0.139801\n",
      "[33]\tvalid_0's auc: 0.995742\tvalid_0's binary_logloss: 0.13718\n",
      "[LightGBM] [Warning] early_stopping_round is set=7, early_stopping=7 will be ignored. Current value: early_stopping_round=7\n",
      "[1]\tvalid_0's auc: 0.885522\tvalid_0's binary_logloss: 0.602321\n",
      "[2]\tvalid_0's auc: 0.961022\tvalid_0's binary_logloss: 0.542925\n",
      "[3]\tvalid_0's auc: 0.96528\tvalid_0's binary_logloss: 0.497678\n",
      "[4]\tvalid_0's auc: 0.989846\tvalid_0's binary_logloss: 0.451922\n",
      "[5]\tvalid_0's auc: 0.986243\tvalid_0's binary_logloss: 0.421817\n",
      "[6]\tvalid_0's auc: 0.985588\tvalid_0's binary_logloss: 0.393713\n",
      "[7]\tvalid_0's auc: 0.989846\tvalid_0's binary_logloss: 0.364781\n",
      "[8]\tvalid_0's auc: 0.990501\tvalid_0's binary_logloss: 0.338063\n",
      "[9]\tvalid_0's auc: 0.989191\tvalid_0's binary_logloss: 0.319267\n",
      "[10]\tvalid_0's auc: 0.990501\tvalid_0's binary_logloss: 0.299509\n",
      "[11]\tvalid_0's auc: 0.989519\tvalid_0's binary_logloss: 0.286114\n",
      "[12]\tvalid_0's auc: 0.989519\tvalid_0's binary_logloss: 0.269481\n",
      "[13]\tvalid_0's auc: 0.992303\tvalid_0's binary_logloss: 0.255033\n",
      "[14]\tvalid_0's auc: 0.993285\tvalid_0's binary_logloss: 0.241218\n",
      "[15]\tvalid_0's auc: 0.992958\tvalid_0's binary_logloss: 0.231917\n",
      "[16]\tvalid_0's auc: 0.993285\tvalid_0's binary_logloss: 0.221174\n",
      "[17]\tvalid_0's auc: 0.994923\tvalid_0's binary_logloss: 0.210735\n",
      "[18]\tvalid_0's auc: 0.994595\tvalid_0's binary_logloss: 0.204185\n",
      "[19]\tvalid_0's auc: 0.994595\tvalid_0's binary_logloss: 0.195894\n",
      "[20]\tvalid_0's auc: 0.994595\tvalid_0's binary_logloss: 0.187605\n",
      "[21]\tvalid_0's auc: 0.995414\tvalid_0's binary_logloss: 0.183288\n",
      "[22]\tvalid_0's auc: 0.995087\tvalid_0's binary_logloss: 0.177604\n",
      "[23]\tvalid_0's auc: 0.995414\tvalid_0's binary_logloss: 0.170961\n",
      "[24]\tvalid_0's auc: 0.995087\tvalid_0's binary_logloss: 0.167818\n",
      "[25]\tvalid_0's auc: 0.995742\tvalid_0's binary_logloss: 0.165031\n",
      "[26]\tvalid_0's auc: 0.995742\tvalid_0's binary_logloss: 0.158768\n",
      "[27]\tvalid_0's auc: 0.996069\tvalid_0's binary_logloss: 0.156152\n",
      "[28]\tvalid_0's auc: 0.996069\tvalid_0's binary_logloss: 0.153942\n",
      "[29]\tvalid_0's auc: 0.996069\tvalid_0's binary_logloss: 0.15031\n",
      "[30]\tvalid_0's auc: 0.996069\tvalid_0's binary_logloss: 0.145113\n",
      "[31]\tvalid_0's auc: 0.995742\tvalid_0's binary_logloss: 0.143901\n",
      "[32]\tvalid_0's auc: 0.996069\tvalid_0's binary_logloss: 0.139801\n",
      "[33]\tvalid_0's auc: 0.995742\tvalid_0's binary_logloss: 0.13718\n",
      "[34]\tvalid_0's auc: 0.995414\tvalid_0's binary_logloss: 0.135961\n",
      "[LightGBM] [Warning] early_stopping_round is set=8, early_stopping=8 will be ignored. Current value: early_stopping_round=8\n",
      "[1]\tvalid_0's auc: 0.885522\tvalid_0's binary_logloss: 0.602321\n",
      "[2]\tvalid_0's auc: 0.961022\tvalid_0's binary_logloss: 0.542925\n",
      "[3]\tvalid_0's auc: 0.96528\tvalid_0's binary_logloss: 0.497678\n",
      "[4]\tvalid_0's auc: 0.989846\tvalid_0's binary_logloss: 0.451922\n",
      "[5]\tvalid_0's auc: 0.986243\tvalid_0's binary_logloss: 0.421817\n",
      "[6]\tvalid_0's auc: 0.985588\tvalid_0's binary_logloss: 0.393713\n",
      "[7]\tvalid_0's auc: 0.989846\tvalid_0's binary_logloss: 0.364781\n",
      "[8]\tvalid_0's auc: 0.990501\tvalid_0's binary_logloss: 0.338063\n",
      "[9]\tvalid_0's auc: 0.989191\tvalid_0's binary_logloss: 0.319267\n",
      "[10]\tvalid_0's auc: 0.990501\tvalid_0's binary_logloss: 0.299509\n",
      "[11]\tvalid_0's auc: 0.989519\tvalid_0's binary_logloss: 0.286114\n",
      "[12]\tvalid_0's auc: 0.989519\tvalid_0's binary_logloss: 0.269481\n",
      "[13]\tvalid_0's auc: 0.992303\tvalid_0's binary_logloss: 0.255033\n",
      "[14]\tvalid_0's auc: 0.993285\tvalid_0's binary_logloss: 0.241218\n",
      "[15]\tvalid_0's auc: 0.992958\tvalid_0's binary_logloss: 0.231917\n",
      "[16]\tvalid_0's auc: 0.993285\tvalid_0's binary_logloss: 0.221174\n",
      "[17]\tvalid_0's auc: 0.994923\tvalid_0's binary_logloss: 0.210735\n",
      "[18]\tvalid_0's auc: 0.994595\tvalid_0's binary_logloss: 0.204185\n",
      "[19]\tvalid_0's auc: 0.994595\tvalid_0's binary_logloss: 0.195894\n",
      "[20]\tvalid_0's auc: 0.994595\tvalid_0's binary_logloss: 0.187605\n",
      "[21]\tvalid_0's auc: 0.995414\tvalid_0's binary_logloss: 0.183288\n",
      "[22]\tvalid_0's auc: 0.995087\tvalid_0's binary_logloss: 0.177604\n",
      "[23]\tvalid_0's auc: 0.995414\tvalid_0's binary_logloss: 0.170961\n",
      "[24]\tvalid_0's auc: 0.995087\tvalid_0's binary_logloss: 0.167818\n",
      "[25]\tvalid_0's auc: 0.995742\tvalid_0's binary_logloss: 0.165031\n",
      "[26]\tvalid_0's auc: 0.995742\tvalid_0's binary_logloss: 0.158768\n",
      "[27]\tvalid_0's auc: 0.996069\tvalid_0's binary_logloss: 0.156152\n",
      "[28]\tvalid_0's auc: 0.996069\tvalid_0's binary_logloss: 0.153942\n",
      "[29]\tvalid_0's auc: 0.996069\tvalid_0's binary_logloss: 0.15031\n",
      "[30]\tvalid_0's auc: 0.996069\tvalid_0's binary_logloss: 0.145113\n",
      "[31]\tvalid_0's auc: 0.995742\tvalid_0's binary_logloss: 0.143901\n",
      "[32]\tvalid_0's auc: 0.996069\tvalid_0's binary_logloss: 0.139801\n",
      "[33]\tvalid_0's auc: 0.995742\tvalid_0's binary_logloss: 0.13718\n",
      "[34]\tvalid_0's auc: 0.995414\tvalid_0's binary_logloss: 0.135961\n",
      "[35]\tvalid_0's auc: 0.995414\tvalid_0's binary_logloss: 0.132684\n",
      "[LightGBM] [Warning] early_stopping_round is set=9, early_stopping=9 will be ignored. Current value: early_stopping_round=9\n",
      "[1]\tvalid_0's auc: 0.885522\tvalid_0's binary_logloss: 0.602321\n",
      "[2]\tvalid_0's auc: 0.961022\tvalid_0's binary_logloss: 0.542925\n",
      "[3]\tvalid_0's auc: 0.96528\tvalid_0's binary_logloss: 0.497678\n",
      "[4]\tvalid_0's auc: 0.989846\tvalid_0's binary_logloss: 0.451922\n",
      "[5]\tvalid_0's auc: 0.986243\tvalid_0's binary_logloss: 0.421817\n",
      "[6]\tvalid_0's auc: 0.985588\tvalid_0's binary_logloss: 0.393713\n",
      "[7]\tvalid_0's auc: 0.989846\tvalid_0's binary_logloss: 0.364781\n",
      "[8]\tvalid_0's auc: 0.990501\tvalid_0's binary_logloss: 0.338063\n",
      "[9]\tvalid_0's auc: 0.989191\tvalid_0's binary_logloss: 0.319267\n",
      "[10]\tvalid_0's auc: 0.990501\tvalid_0's binary_logloss: 0.299509\n",
      "[11]\tvalid_0's auc: 0.989519\tvalid_0's binary_logloss: 0.286114\n",
      "[12]\tvalid_0's auc: 0.989519\tvalid_0's binary_logloss: 0.269481\n",
      "[13]\tvalid_0's auc: 0.992303\tvalid_0's binary_logloss: 0.255033\n",
      "[14]\tvalid_0's auc: 0.993285\tvalid_0's binary_logloss: 0.241218\n",
      "[15]\tvalid_0's auc: 0.992958\tvalid_0's binary_logloss: 0.231917\n",
      "[16]\tvalid_0's auc: 0.993285\tvalid_0's binary_logloss: 0.221174\n",
      "[17]\tvalid_0's auc: 0.994923\tvalid_0's binary_logloss: 0.210735\n",
      "[18]\tvalid_0's auc: 0.994595\tvalid_0's binary_logloss: 0.204185\n",
      "[19]\tvalid_0's auc: 0.994595\tvalid_0's binary_logloss: 0.195894\n",
      "[20]\tvalid_0's auc: 0.994595\tvalid_0's binary_logloss: 0.187605\n",
      "[21]\tvalid_0's auc: 0.995414\tvalid_0's binary_logloss: 0.183288\n",
      "[22]\tvalid_0's auc: 0.995087\tvalid_0's binary_logloss: 0.177604\n",
      "[23]\tvalid_0's auc: 0.995414\tvalid_0's binary_logloss: 0.170961\n",
      "[24]\tvalid_0's auc: 0.995087\tvalid_0's binary_logloss: 0.167818\n",
      "[25]\tvalid_0's auc: 0.995742\tvalid_0's binary_logloss: 0.165031\n",
      "[26]\tvalid_0's auc: 0.995742\tvalid_0's binary_logloss: 0.158768\n",
      "[27]\tvalid_0's auc: 0.996069\tvalid_0's binary_logloss: 0.156152\n",
      "[28]\tvalid_0's auc: 0.996069\tvalid_0's binary_logloss: 0.153942\n",
      "[29]\tvalid_0's auc: 0.996069\tvalid_0's binary_logloss: 0.15031\n",
      "[30]\tvalid_0's auc: 0.996069\tvalid_0's binary_logloss: 0.145113\n",
      "[31]\tvalid_0's auc: 0.995742\tvalid_0's binary_logloss: 0.143901\n",
      "[32]\tvalid_0's auc: 0.996069\tvalid_0's binary_logloss: 0.139801\n",
      "[33]\tvalid_0's auc: 0.995742\tvalid_0's binary_logloss: 0.13718\n",
      "[34]\tvalid_0's auc: 0.995414\tvalid_0's binary_logloss: 0.135961\n",
      "[35]\tvalid_0's auc: 0.995414\tvalid_0's binary_logloss: 0.132684\n",
      "[36]\tvalid_0's auc: 0.995414\tvalid_0's binary_logloss: 0.132215\n"
     ]
    }
   ],
   "source": [
    "number_of_steps = np.arange(1, 10, 1)\n",
    "\n",
    "\n",
    "trn_err = np.zeros((len(number_of_steps), ))\n",
    "val_err = np.zeros((len(number_of_steps), ))\n",
    "n_iters = np.zeros((len(number_of_steps), ))\n",
    "\n",
    "for i, rounds in enumerate(number_of_steps):\n",
    "    gbm = LGBMClassifier(boosting_type='gbdt', n_estimators=50, max_depth=1, early_stopping=rounds)\n",
    "    gbm.fit(Xtrn, ytrn, eval_set=[(Xval, yval)], eval_metric='auc')\n",
    "                     \n",
    "    trn_err[i] = 1 - accuracy_score(ytrn,  gbm.predict(Xtrn))\n",
    "    val_err[i] = 1 - accuracy_score(yval,  gbm.predict(Xval))\n",
    "    n_iters[i] = len(gbm.evals_result_['valid_0']['auc']) # Get the number of estimators in the ensemble in a roundabout way  "
   ]
  },
  {
   "cell_type": "code",
   "execution_count": 9,
   "metadata": {},
   "outputs": [
    {
     "data": {
      "image/png": "[encoded data removed]",
      "text/plain": [
       "<Figure size 648x288 with 2 Axes>"
      ]
     },
     "metadata": {
      "needs_background": "light"
     },
     "output_type": "display_data"
    }
   ],
   "source": [
    "fig, ax = plt.subplots(nrows=1, ncols=2, figsize=(9, 4))\n",
    "\n",
    "ax[0].plot(number_of_steps, trn_err, linewidth=1.5, marker='o', markersize=9, mfc='w', label='Training error');\n",
    "ax[0].plot(number_of_steps, val_err, linewidth=1.5, marker='s', markersize=9, mfc='w', label='Validation error');\n",
    "ax[0].legend(fontsize=12)\n",
    "ax[0].set_xlabel('early_stopping_rounds', fontsize=12)\n",
    "ax[0].set_ylabel('Error (%)', fontsize=12)\n",
    "ax[0].set_xticks(range(10))\n",
    "\n",
    "ax[1].plot(number_of_steps, n_iters, linewidth=1.5, marker='o', markersize=9, mfc='w');\n",
    "ax[1].set_xlabel('early_stopping_rounds', fontsize=12)\n",
    "ax[1].set_ylabel('Ensemble size at early stopping', fontsize=12)\n",
    "ax[1].set_xticks(range(10))\n",
    "\n",
    "fig.tight_layout()\n",
    "# plt.savefig('./figures/CH05_F20_Kunapuli.png', format='png', dpi=300, pad_inches=0)\n",
    "# plt.savefig('./figures/CH05_F20_Kunapuli.pdf', format='pdf', dpi=300, pad_inches=0)"
   ]
  },
  {
   "cell_type": "markdown",
   "metadata": {},
   "source": [
    "### 5.4.3. Custom Loss Functions\n",
    "The **training loss** is the function that is optimized during training. Recall that we used squared error as the loss while building our own gradient boosting algorithm; ``LightGBM`` uses cross-entropy, otherwise known as the logistic loss. \n",
    "\n",
    "The **focal loss** is a new loss function introduced by [Lin et al.](https://arxiv.org/abs/1708.02002) for object detection. It is a modification of the classical cross-entropy loss that puts more focus on harder-to-classify examples, while ignoring the easier examples. The extent of this \"focus\" is determined by a user-controllable parameter, $\\gamma \\geq 0$.\n",
    "\n",
    "Let's define the model's predicted probability of $y_{pred} = 1$ as $p$. For a binary classification problem, since the only other label is $y=0$, the probability of $y_{pred} = 0$ will be $1-p$. The classical cross-entropy loss (for binary classification) is:\n",
    "\n",
    "\\\\[\n",
    "L(y_{true}, y_{pred}) = - y_{true} \\log{p} -  (1 - y_{true}) \\log{(1 - p)}.\n",
    "\\\\]\n",
    "\n",
    "The focal loss introduces a **modulating factor** to each term:\n",
    "\n",
    "\\\\[\n",
    "L(y_{true}, y_{pred}) = - (1 - y_{true}) p^\\gamma \\log{(1 - p)} -  y_{true} (1 - p)^\\gamma \\log{p}.\n",
    "\\\\]\n",
    "\n",
    "The modulating factor essentially suppresses the contribution of well-classified examples, forcing the algorithm that uses this loss to learn a model that focuses on poorly-classified examples. This effect can be seen below, where the focal loss is plotted for different values of $\\gamma$."
   ]
  },
  {
   "cell_type": "code",
   "execution_count": 10,
   "metadata": {},
   "outputs": [
    {
     "data": {
      "image/png": "[encoded data removed]",
      "text/plain": [
       "<Figure size 360x288 with 1 Axes>"
      ]
     },
     "metadata": {
      "needs_background": "light"
     },
     "output_type": "display_data"
    }
   ],
   "source": [
    "p = np.linspace(0.001, 1.0, num=100)\n",
    "fig, ax = plt.subplots(nrows=1, ncols=1, figsize=(5, 4))\n",
    "\n",
    "for g in [0, 0.5, 1, 2, 5, 10]:\n",
    "    f = -(1 - p)**g * np.log(p)\n",
    "    \n",
    "    if g == 0.0:\n",
    "        ax.plot(p, f, linewidth=4)\n",
    "    elif 0.5 <= g <= 1:\n",
    "        ax.plot(p, f, linewidth=3, linestyle='--')\n",
    "    elif 2 <= g <= 5:\n",
    "        ax.plot(p, f, linewidth=2, linestyle='-.')\n",
    "    else:\n",
    "        ax.plot(p, f, linewidth=1, linestyle=':')\n",
    "        \n",
    "ax.set_xlabel('probability of $y = 1$', fontsize=12)\n",
    "ax.set_ylabel('Loss', fontsize=12)\n",
    "ax.legend(['$\\gamma = {0}$'.format(g) for g in [0, 0.5, 1, 2, 5, 10]])\n",
    "\n",
    "fig.tight_layout()\n",
    "# plt.savefig('./figures/CH05_F21_Kunapuli.png', format='png', dpi=300, pad_inches=0)\n",
    "# plt.savefig('./figures/CH05_F21_Kunapuli.pdf', format='pdf', dpi=300, pad_inches=0)"
   ]
  },
  {
   "cell_type": "markdown",
   "metadata": {},
   "source": [
    "When $\\gamma=0$, the original cross-entropy loss is recovered. As $\\gamma$ increases, the part of the curve corresponding to \"well-classified\" examples becomes longer, reflecting the loss function's focus on poor classification.\n",
    "\n",
    "In order to use this focal loss to train gradient boosted decision trees, we have to provide ``LightGBM`` with two functions:\n",
    "* the actual loss function itself, which can be used for evaluation\n",
    "* the first derivative (gradient) and second derivative (Hessian), which will be used for learning\n",
    "\n",
    "**Listing 5.7**: Defining Custom Loss Functions"
   ]
  },
  {
   "cell_type": "code",
   "execution_count": 11,
   "metadata": {},
   "outputs": [],
   "source": [
    "from scipy.misc import derivative\n",
    "\n",
    "def focal_loss(ytrue, ypred, gamma=2.0):   \n",
    "    p = 1 / (1 + np.exp(-ypred))\n",
    "    loss = -(1 - ytrue) * p**gamma * np.log(1 - p) - ytrue * (1 - p)**gamma * np.log(p)\n",
    "    return loss\n",
    "\n",
    "\n",
    "def focal_loss_metric(ytrue, ypred):\n",
    "    return 'focal_loss_metric', np.mean(focal_loss(ytrue, ypred)), False\n",
    "\n",
    "\n",
    "def focal_loss_objective(ytrue, ypred):\n",
    "    func = lambda z: focal_loss(ytrue, z)\n",
    "    grad = derivative(func, ypred, n=1, dx=1e-6)\n",
    "    hess = derivative(func, ypred, n=2, dx=1e-6)\n",
    "    return grad, hess"
   ]
  },
  {
   "cell_type": "code",
   "execution_count": 12,
   "metadata": {},
   "outputs": [
    {
     "name": "stdout",
     "output_type": "stream",
     "text": [
      "[1]\tvalid_0's binary_logloss: 3.38485\tvalid_0's focal_loss_metric: 0.141808\n",
      "[2]\tvalid_0's binary_logloss: 3.01701\tvalid_0's focal_loss_metric: 0.11333\n",
      "[3]\tvalid_0's binary_logloss: 1.10525\tvalid_0's focal_loss_metric: 0.0952922\n",
      "[4]\tvalid_0's binary_logloss: 0.924261\tvalid_0's focal_loss_metric: 0.0790233\n",
      "[5]\tvalid_0's binary_logloss: 0.505147\tvalid_0's focal_loss_metric: 0.0677255\n",
      "[6]\tvalid_0's binary_logloss: 0.682986\tvalid_0's focal_loss_metric: 0.0606197\n",
      "[7]\tvalid_0's binary_logloss: 0.595374\tvalid_0's focal_loss_metric: 0.0537766\n",
      "[8]\tvalid_0's binary_logloss: 0.522227\tvalid_0's focal_loss_metric: 0.0482069\n",
      "[9]\tvalid_0's binary_logloss: 0.215398\tvalid_0's focal_loss_metric: 0.0459177\n",
      "[10]\tvalid_0's binary_logloss: 0.448094\tvalid_0's focal_loss_metric: 0.0438938\n",
      "[11]\tvalid_0's binary_logloss: 0.121162\tvalid_0's focal_loss_metric: 0.0396912\n",
      "[12]\tvalid_0's binary_logloss: 0.351168\tvalid_0's focal_loss_metric: 0.0373091\n",
      "[13]\tvalid_0's binary_logloss: 0.0564804\tvalid_0's focal_loss_metric: 0.0354938\n",
      "[14]\tvalid_0's binary_logloss: 0.0137323\tvalid_0's focal_loss_metric: 0.0325854\n",
      "[15]\tvalid_0's binary_logloss: 0.00815208\tvalid_0's focal_loss_metric: 0.0325117\n",
      "[16]\tvalid_0's binary_logloss: 0.258821\tvalid_0's focal_loss_metric: 0.0321897\n",
      "[17]\tvalid_0's binary_logloss: 0.229213\tvalid_0's focal_loss_metric: 0.03054\n",
      "[18]\tvalid_0's binary_logloss: -0.0457439\tvalid_0's focal_loss_metric: 0.0303324\n",
      "[19]\tvalid_0's binary_logloss: -0.0784607\tvalid_0's focal_loss_metric: 0.0283734\n",
      "[20]\tvalid_0's binary_logloss: -0.0985534\tvalid_0's focal_loss_metric: 0.0272042\n"
     ]
    },
    {
     "data": {
      "text/plain": [
       "0.9649122807017544"
      ]
     },
     "execution_count": 12,
     "metadata": {},
     "output_type": "execute_result"
    }
   ],
   "source": [
    "gbm_focal_loss = LGBMClassifier(objective=focal_loss_objective, learning_rate=0.25, n_estimators=20, max_depth=1)\n",
    "gbm_focal_loss.fit(Xtrn, ytrn, eval_set=[(Xval, yval)], eval_metric=focal_loss_metric)\n",
    "\n",
    "from scipy.special import expit                               # Import the sigmoid function from scipy\n",
    "probs = expit(gbm_focal_loss.predict(Xval, raw_score=True))   # Get raw scores and then compute the probability positive class\n",
    "                                                              # using the sigmoid function\n",
    "ypred = (probs > 0.5).astype(float)                           # Convert to a 0/1 label, where the prediction is class 1 if \n",
    "                                                              # probability is above 0.5 and class 0 otherwise\n",
    "accuracy_score(yval, ypred)"
   ]
  },
  {
   "cell_type": "code",
   "execution_count": 13,
   "metadata": {},
   "outputs": [
    {
     "data": {
      "text/plain": [
       "0.956140350877193"
      ]
     },
     "execution_count": 13,
     "metadata": {},
     "output_type": "execute_result"
    }
   ],
   "source": [
    "gbm_standard = LGBMClassifier(boosting_type='gbdt', learning_rate=0.25, n_estimators=20, max_depth=1)\n",
    "gbm_standard.fit(Xtrn, ytrn)\n",
    "probs = expit(gbm_standard.predict(Xval, raw_score=True))   # Get raw scores and then compute the probability positive class\n",
    "                                                              # using the sigmoid function\n",
    "ypred = (probs > 0.5).astype(float)                           # Convert to a 0/1 label, where the prediction is class 1 if \n",
    "                                                              # probability is above 0.5 and class 0 otherwise\n",
    "accuracy_score(yval, ypred)"
   ]
  },
  {
   "cell_type": "code",
   "execution_count": null,
   "metadata": {},
   "outputs": [],
   "source": []
  }
 ],
 "metadata": {
  "kernelspec": {
   "display_name": "Python 3 (ipykernel)",
   "language": "python",
   "name": "python3"
  },
  "language_info": {
   "codemirror_mode": {
    "name": "ipython",
    "version": 3
   },
   "file_extension": ".py",
   "mimetype": "text/x-python",
   "name": "python",
   "nbconvert_exporter": "python",
   "pygments_lexer": "ipython3",
   "version": "3.10.5"
  }
 },
 "nbformat": 4,
 "nbformat_minor": 2
}
