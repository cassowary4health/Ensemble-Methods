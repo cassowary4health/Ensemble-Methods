{
 "cells": [
  {
   "cell_type": "markdown",
   "metadata": {},
   "source": [
    "_This notebook contains code and comments from Section 7.2 of the book [Ensemble Methods for Machine Learning](https://www.manning.com/books/ensemble-methods-for-machine-learning). Please see the book for additional details on this topic. This notebook and code are released under the [MIT license](https://github.com/gkunapuli/ensemble-methods-notebooks/blob/master/LICENSE)._\n",
    "\n",
    "## 7.2\tParallel Ensembles for Regression"
   ]
  },
  {
   "cell_type": "code",
   "execution_count": 1,
   "metadata": {},
   "outputs": [],
   "source": [
    "import matplotlib.pyplot as plt\n",
    "import numpy as np\n",
    "import pandas as pd"
   ]
  },
  {
   "cell_type": "markdown",
   "metadata": {},
   "source": [
    "### 7.2.1 Random Forests & ExtraTrees for Regression\n",
    "In this section, we look at two classical parallel ensemble methods for regression: Random Forests and ExtraTrees. We use the AutoMPG data set, which is a classical benchmark data set for regression."
   ]
  },
  {
   "cell_type": "code",
   "execution_count": 2,
   "metadata": {},
   "outputs": [],
   "source": [
    "# # Load the data from the UCI repository, clean it and save it as a CSV file\n",
    "# url = 'http://archive.ics.uci.edu/ml/machine-learning-databases/auto-mpg/auto-mpg.data'\n",
    "# column_names = ['MPG', 'Cylinders', 'Displacement', 'Horsepower', 'Weight',\n",
    "#                 'Acceleration', 'Model Year', 'Origin']\n",
    "\n",
    "# data = pd.read_csv(url, names=column_names, na_values='?', comment='\\t', sep=' ', skipinitialspace=True)\n",
    "# data = data.dropna()\n",
    "# data.to_csv('./data/ch07/autompg.csv', index=False)"
   ]
  },
  {
   "cell_type": "markdown",
   "metadata": {},
   "source": [
    "**Listing 7.2**: Loading and pre-processing the AutoMPG data set"
   ]
  },
  {
   "cell_type": "code",
   "execution_count": 3,
   "metadata": {},
   "outputs": [
    {
     "data": {
      "text/html": [
       "<div>\n",
       "<style scoped>\n",
       "    .dataframe tbody tr th:only-of-type {\n",
       "        vertical-align: middle;\n",
       "    }\n",
       "\n",
       "    .dataframe tbody tr th {\n",
       "        vertical-align: top;\n",
       "    }\n",
       "\n",
       "    .dataframe thead th {\n",
       "        text-align: right;\n",
       "    }\n",
       "</style>\n",
       "<table border=\"1\" class=\"dataframe\">\n",
       "  <thead>\n",
       "    <tr style=\"text-align: right;\">\n",
       "      <th></th>\n",
       "      <th>MPG</th>\n",
       "      <th>Cylinders</th>\n",
       "      <th>Displacement</th>\n",
       "      <th>Horsepower</th>\n",
       "      <th>Weight</th>\n",
       "      <th>Acceleration</th>\n",
       "      <th>Model Year</th>\n",
       "      <th>Origin</th>\n",
       "    </tr>\n",
       "  </thead>\n",
       "  <tbody>\n",
       "    <tr>\n",
       "      <th>count</th>\n",
       "      <td>392.000000</td>\n",
       "      <td>392.000000</td>\n",
       "      <td>392.000000</td>\n",
       "      <td>392.000000</td>\n",
       "      <td>392.000000</td>\n",
       "      <td>392.000000</td>\n",
       "      <td>392.000000</td>\n",
       "      <td>392.000000</td>\n",
       "    </tr>\n",
       "    <tr>\n",
       "      <th>mean</th>\n",
       "      <td>23.445918</td>\n",
       "      <td>5.471939</td>\n",
       "      <td>194.411990</td>\n",
       "      <td>104.469388</td>\n",
       "      <td>2977.584184</td>\n",
       "      <td>15.541327</td>\n",
       "      <td>75.979592</td>\n",
       "      <td>1.576531</td>\n",
       "    </tr>\n",
       "    <tr>\n",
       "      <th>std</th>\n",
       "      <td>7.805007</td>\n",
       "      <td>1.705783</td>\n",
       "      <td>104.644004</td>\n",
       "      <td>38.491160</td>\n",
       "      <td>849.402560</td>\n",
       "      <td>2.758864</td>\n",
       "      <td>3.683737</td>\n",
       "      <td>0.805518</td>\n",
       "    </tr>\n",
       "    <tr>\n",
       "      <th>min</th>\n",
       "      <td>9.000000</td>\n",
       "      <td>3.000000</td>\n",
       "      <td>68.000000</td>\n",
       "      <td>46.000000</td>\n",
       "      <td>1613.000000</td>\n",
       "      <td>8.000000</td>\n",
       "      <td>70.000000</td>\n",
       "      <td>1.000000</td>\n",
       "    </tr>\n",
       "    <tr>\n",
       "      <th>25%</th>\n",
       "      <td>17.000000</td>\n",
       "      <td>4.000000</td>\n",
       "      <td>105.000000</td>\n",
       "      <td>75.000000</td>\n",
       "      <td>2225.250000</td>\n",
       "      <td>13.775000</td>\n",
       "      <td>73.000000</td>\n",
       "      <td>1.000000</td>\n",
       "    </tr>\n",
       "    <tr>\n",
       "      <th>50%</th>\n",
       "      <td>22.750000</td>\n",
       "      <td>4.000000</td>\n",
       "      <td>151.000000</td>\n",
       "      <td>93.500000</td>\n",
       "      <td>2803.500000</td>\n",
       "      <td>15.500000</td>\n",
       "      <td>76.000000</td>\n",
       "      <td>1.000000</td>\n",
       "    </tr>\n",
       "    <tr>\n",
       "      <th>75%</th>\n",
       "      <td>29.000000</td>\n",
       "      <td>8.000000</td>\n",
       "      <td>275.750000</td>\n",
       "      <td>126.000000</td>\n",
       "      <td>3614.750000</td>\n",
       "      <td>17.025000</td>\n",
       "      <td>79.000000</td>\n",
       "      <td>2.000000</td>\n",
       "    </tr>\n",
       "    <tr>\n",
       "      <th>max</th>\n",
       "      <td>46.600000</td>\n",
       "      <td>8.000000</td>\n",
       "      <td>455.000000</td>\n",
       "      <td>230.000000</td>\n",
       "      <td>5140.000000</td>\n",
       "      <td>24.800000</td>\n",
       "      <td>82.000000</td>\n",
       "      <td>3.000000</td>\n",
       "    </tr>\n",
       "  </tbody>\n",
       "</table>\n",
       "</div>"
      ],
      "text/plain": [
       "              MPG   Cylinders  Displacement  Horsepower       Weight  \\\n",
       "count  392.000000  392.000000    392.000000  392.000000   392.000000   \n",
       "mean    23.445918    5.471939    194.411990  104.469388  2977.584184   \n",
       "std      7.805007    1.705783    104.644004   38.491160   849.402560   \n",
       "min      9.000000    3.000000     68.000000   46.000000  1613.000000   \n",
       "25%     17.000000    4.000000    105.000000   75.000000  2225.250000   \n",
       "50%     22.750000    4.000000    151.000000   93.500000  2803.500000   \n",
       "75%     29.000000    8.000000    275.750000  126.000000  3614.750000   \n",
       "max     46.600000    8.000000    455.000000  230.000000  5140.000000   \n",
       "\n",
       "       Acceleration  Model Year      Origin  \n",
       "count    392.000000  392.000000  392.000000  \n",
       "mean      15.541327   75.979592    1.576531  \n",
       "std        2.758864    3.683737    0.805518  \n",
       "min        8.000000   70.000000    1.000000  \n",
       "25%       13.775000   73.000000    1.000000  \n",
       "50%       15.500000   76.000000    1.000000  \n",
       "75%       17.025000   79.000000    2.000000  \n",
       "max       24.800000   82.000000    3.000000  "
      ]
     },
     "execution_count": 3,
     "metadata": {},
     "output_type": "execute_result"
    }
   ],
   "source": [
    "# Load the AutoMPG data set from the data folder\n",
    "data = pd.read_csv('./data/ch07/autompg.csv')\n",
    "data.describe()"
   ]
  },
  {
   "cell_type": "code",
   "execution_count": 4,
   "metadata": {},
   "outputs": [],
   "source": [
    "# Get indices for the features and labels\n",
    "labels = data.columns.get_loc('MPG')\n",
    "features = np.setdiff1d(np.arange(0, len(data.columns), 1), labels)\n",
    "\n",
    "# Split into train and test sets\n",
    "from sklearn.model_selection import train_test_split\n",
    "trn, tst = train_test_split(data, test_size=0.2, random_state=42)\n",
    "\n",
    "# Split into features and labels\n",
    "from sklearn.preprocessing import StandardScaler\n",
    "preprocessor = StandardScaler().fit(trn)\n",
    "trn, tst = preprocessor.transform(trn), preprocessor.transform(tst)\n",
    "Xtrn, ytrn = trn[:, features], trn[:, labels]\n",
    "Xtst, ytst = tst[:, features], tst[:, labels]"
   ]
  },
  {
   "cell_type": "markdown",
   "metadata": {},
   "source": [
    "**Listing 7.3**: Random Forest and ExtraTrees for Regression"
   ]
  },
  {
   "cell_type": "code",
   "execution_count": 5,
   "metadata": {},
   "outputs": [],
   "source": [
    "# Train several ML models\n",
    "from sklearn.ensemble import RandomForestRegressor\n",
    "from sklearn.ensemble import ExtraTreesRegressor\n",
    "from sklearn.metrics import mean_squared_error, mean_absolute_error\n",
    "\n",
    "ensembles = {'Random Forest MSE': RandomForestRegressor(criterion='mse'),\n",
    "             'Random Forest MAE': RandomForestRegressor(criterion='mae'),\n",
    "             'ExtraTrees MSE': ExtraTreesRegressor(criterion='mse'),\n",
    "             'ExtraTrees MAE': ExtraTreesRegressor(criterion='mae')}\n",
    "\n",
    "results = pd.DataFrame()\n",
    "ypred_trn = {}\n",
    "ypred_tst = {}\n",
    "\n",
    "for method, ensemble in ensembles.items():\n",
    "    ensemble.fit(Xtrn, ytrn)\n",
    "    ypred_trn[method] = ensemble.predict(Xtrn)\n",
    "    ypred_tst[method] = ensemble.predict(Xtst)\n",
    "    res = {'Package-Method-Loss': method, \n",
    "            'Train MSE': mean_squared_error(ytrn, ypred_trn[method]),\n",
    "            'Train MAE': mean_absolute_error(ytrn, ypred_trn[method]), \n",
    "            'Test MSE': mean_squared_error(ytst, ypred_tst[method]),\n",
    "            'Test MAE': mean_absolute_error(ytst, ypred_tst[method])}\n",
    "    results = results.append(res, ignore_index=True)"
   ]
  },
  {
   "cell_type": "code",
   "execution_count": 6,
   "metadata": {},
   "outputs": [
    {
     "name": "stdout",
     "output_type": "stream",
     "text": [
      "  Package-Method-Loss  Test MAE  Test MSE  Train MAE  Train MSE\n",
      "0   Random Forest MSE    0.2173    0.0938     0.0924     0.0175\n",
      "1   Random Forest MAE    0.2222    0.0911     0.0982     0.0204\n",
      "2      ExtraTrees MSE    0.1978    0.0757     0.0000     0.0000\n",
      "3      ExtraTrees MAE    0.2005    0.0733     0.0000     0.0000\n"
     ]
    }
   ],
   "source": [
    "pd.options.display.float_format = '{:,.4f}'.format\n",
    "print(results)"
   ]
  },
  {
   "cell_type": "markdown",
   "metadata": {},
   "source": [
    "### 7.2.2 Combining Predictions for Regression\n",
    "The predictions of several regression models (such as those trained above) can be combined / ensembled into a final prediction. Since many of the individual models that we combine here are themselves ensembles, we end up with an _ensemble of ensembles_.\n",
    "\n",
    "First, we use combining functions such as mean, median, max, min.\n",
    "\n",
    "**Listing 7.4**: Aggregators for Continuous-Valued Labels"
   ]
  },
  {
   "cell_type": "code",
   "execution_count": 7,
   "metadata": {},
   "outputs": [],
   "source": [
    "agg_methods = ['Mean', 'Median', 'Max', 'Min']\n",
    "aggregators = [np.mean, np.median, np.max, np.min]\n",
    "\n",
    "results = pd.DataFrame()\n",
    "ypred_trn_values = np.array(list(ypred_trn.values()))\n",
    "ypred_tst_values = np.array(list(ypred_tst.values()))\n",
    "\n",
    "for method, aggregate in zip(agg_methods, aggregators):\n",
    "    yagg_trn = aggregate(ypred_trn_values, axis=0)\n",
    "    yagg_tst = aggregate(ypred_tst_values, axis=0)\n",
    "    \n",
    "    res = {'Aggregator': method, \n",
    "            'Train MSE': mean_squared_error(ytrn, yagg_trn),\n",
    "            'Train MAE': mean_absolute_error(ytrn, yagg_trn), \n",
    "            'Test MSE': mean_squared_error(ytst, yagg_tst),\n",
    "            'Test MAE': mean_absolute_error(ytst, yagg_tst)}\n",
    "    results = results.append(res, ignore_index=True)"
   ]
  },
  {
   "cell_type": "code",
   "execution_count": 8,
   "metadata": {},
   "outputs": [
    {
     "name": "stdout",
     "output_type": "stream",
     "text": [
      "  Aggregator  Test MAE  Test MSE  Train MAE  Train MSE\n",
      "0       Mean    0.2069    0.0800     0.0471     0.0046\n",
      "1     Median    0.2041    0.0784     0.0399     0.0036\n",
      "2        Max    0.2260    0.0990     0.0542     0.0090\n",
      "3        Min    0.2017    0.0754     0.0565     0.0145\n"
     ]
    }
   ],
   "source": [
    "print(results)"
   ]
  },
  {
   "cell_type": "markdown",
   "metadata": {
    "scrolled": false
   },
   "source": [
    "Next, we can stack these predictions with a second-level learner (or meta-learner). We'll use an artificial neural network as a meta learner here."
   ]
  },
  {
   "cell_type": "markdown",
   "metadata": {},
   "source": [
    "**Listing 7.5**: Stacking regression models"
   ]
  },
  {
   "cell_type": "code",
   "execution_count": 9,
   "metadata": {},
   "outputs": [],
   "source": [
    "from sklearn.ensemble import StackingRegressor\n",
    "from sklearn.neural_network import MLPRegressor\n",
    "\n",
    "from sklearn.kernel_ridge import KernelRidge\n",
    "from sklearn.svm import SVR\n",
    "from sklearn.tree import DecisionTreeRegressor\n",
    "from sklearn.neighbors import KNeighborsRegressor\n",
    "from sklearn.gaussian_process import GaussianProcessRegressor\n",
    "\n",
    "\n",
    "estimators = [('Kernel Ridge Regression', KernelRidge(kernel='rbf', gamma=0.1)), \n",
    "              ('Support Vector Machine', SVR(kernel='rbf', gamma=0.1)),\n",
    "              ('K-Nearest Neighbors', KNeighborsRegressor(n_neighbors=3)),\n",
    "              ('ExtraTrees', ExtraTreesRegressor(n_estimators=50, criterion='mae'))]\n",
    "\n",
    "meta_learner = MLPRegressor(hidden_layer_sizes=(50, 50, 50), max_iter=1000)\n",
    "\n",
    "stack = StackingRegressor(estimators, final_estimator=meta_learner, cv=3)\n",
    "stack.fit(Xtrn, ytrn);"
   ]
  },
  {
   "cell_type": "code",
   "execution_count": 10,
   "metadata": {},
   "outputs": [
    {
     "name": "stdout",
     "output_type": "stream",
     "text": [
      "Train MSE = 0.0469, Train MAE = 0.1499\n",
      "Test MSE = 0.0831, Test MAE = 0.2177\n"
     ]
    }
   ],
   "source": [
    "ypred_trn = stack.predict(Xtrn)\n",
    "ypred_tst = stack.predict(Xtst)\n",
    "\n",
    "print('Train MSE = {0:5.4f}, Train MAE = {1:5.4f}\\n' \\\n",
    "      'Test MSE = {2:5.4f}, Test MAE = {3:5.4f}'.format(\n",
    "      mean_squared_error(ytrn, ypred_trn),\n",
    "      mean_absolute_error(ytrn, ypred_trn),\n",
    "      mean_squared_error(ytst, ypred_tst),\n",
    "      mean_absolute_error(ytst, ypred_tst)))"
   ]
  },
  {
   "cell_type": "markdown",
   "metadata": {},
   "source": [
    "---\n",
    "## 7.3 Sequential Ensembles for Regression\n",
    "\n",
    "In regression problems, residuals convey two important pieces of information to the base learners. The magnitude of the residual of each training example indicates the extent of the error in fitting, while the sign of the residual indicates whether the model is under or overestimating.\n",
    "\n",
    "The loss function and, more importantly, its derivatives allow us to measure the residual between the current model’s prediction and the true label. By changing the loss function, we are essentially changing how we prioritize different examples.\n",
    "\n",
    "Both gradient boosting and Newton boosting use shallow regression trees as weak base learners to fit residuals and approximate the gradient of the loss function.\n",
    "\n",
    "### 7.3.1 Loss Functions for Regression"
   ]
  },
  {
   "cell_type": "code",
   "execution_count": 11,
   "metadata": {},
   "outputs": [
    {
     "data": {
      "image/png": "[encoded data removed]",
      "text/plain": [
       "<Figure size 864x216 with 3 Axes>"
      ]
     },
     "metadata": {
      "needs_background": "light"
     },
     "output_type": "display_data"
    }
   ],
   "source": [
    "import scipy\n",
    "from scipy.stats import poisson, gamma\n",
    "\n",
    "def mse(x):\n",
    "    return 0.5 * x**2\n",
    "\n",
    "def huber(x):\n",
    "    return scipy.special.huber(1., x)\n",
    "    \n",
    "\n",
    "fig, ax = plt.subplots(nrows=1, ncols=3, figsize=(12, 3))\n",
    "\n",
    "xx = np.linspace(-3., 3., num=100)\n",
    "losses = [mse, np.abs, huber]\n",
    "styles = ['-', '--', ':']\n",
    "\n",
    "for style, loss in zip(styles, losses):\n",
    "    ax[0].plot(xx, loss(xx), linestyle=style, linewidth=2)\n",
    "ax[0].set_xlabel('Residual')\n",
    "ax[0].set_ylabel('Loss')\n",
    "ax[0].set_title('Losses for continuous targets')\n",
    "ax[0].legend(['MSE', 'MAE', 'Huber'])\n",
    "\n",
    "\n",
    "xx = np.linspace(0.01, 7., num=100)\n",
    "dist = gamma(a=3, loc=0., scale=1)\n",
    "yy = -np.log(dist.pdf(xx))\n",
    "ax[1].step(xx, yy)\n",
    "ax[1].set_xlabel('Residual')\n",
    "ax[1].set_ylabel('Negative likelihood')\n",
    "ax[1].set_title('Gamma likelihood for continuous positive targets')\n",
    "\n",
    "xx = np.arange(0, 7)\n",
    "dist = poisson(3)\n",
    "yy = -np.log(dist.pmf(xx))\n",
    "ax[2].step(xx, yy)\n",
    "ax[2].set_xlabel('Residual')\n",
    "ax[2].set_ylabel('Negative likelihood')\n",
    "ax[2].set_title('Poisson likelihood for count targets')\n",
    "\n",
    "fig.tight_layout()\n",
    "pngFile = './figures/CH07_F10_Kunapuli.png'\n",
    "plt.savefig(pngFile, dpi=300, bbox_inches='tight', pad_inches=0.05)"
   ]
  },
  {
   "cell_type": "markdown",
   "metadata": {},
   "source": [
    "### 7.3.2 LightGBM and XGBoost for Regression"
   ]
  },
  {
   "cell_type": "code",
   "execution_count": 12,
   "metadata": {},
   "outputs": [
    {
     "data": {
      "image/png": "[encoded data removed]",
      "text/plain": [
       "<Figure size 432x216 with 1 Axes>"
      ]
     },
     "metadata": {
      "needs_background": "light"
     },
     "output_type": "display_data"
    }
   ],
   "source": [
    "import tweedie\n",
    "import seaborn as sns\n",
    "\n",
    "samples = tweedie.tweedie(mu=12, p=1.2, phi=5).rvs(10000)\n",
    "samples = np.concatenate((samples[samples > 0], np.zeros((800, ))))\n",
    "\n",
    "fig, ax = plt.subplots(figsize=(6, 3))\n",
    "sns.histplot(samples, ax=ax)\n",
    "plt.xlabel('Rainfall in mm');\n",
    "plt.title('Histogram of rainfall follows a Tweedie distribution')\n",
    "plt.xlim(-1, 60)\n",
    "pngFile = './figures/CH07_F11_Kunapuli.png'\n",
    "plt.savefig(pngFile, dpi=300, bbox_inches='tight', pad_inches=0)"
   ]
  },
  {
   "cell_type": "markdown",
   "metadata": {},
   "source": [
    "**Listing 7.6**. Using LightGBM with Huber Loss"
   ]
  },
  {
   "cell_type": "code",
   "execution_count": 13,
   "metadata": {
    "scrolled": false
   },
   "outputs": [
    {
     "name": "stdout",
     "output_type": "stream",
     "text": [
      "Fitting 5 folds for each of 20 candidates, totalling 100 fits\n",
      "Train MSE = 0.0418, Train MAE = 0.1461\n",
      "Test MSE = 0.0930, Test MAE = 0.2252\n"
     ]
    }
   ],
   "source": [
    "from lightgbm import LGBMRegressor\n",
    "from sklearn.model_selection import RandomizedSearchCV\n",
    "\n",
    "parameters = {'alpha': [0.3, 0.9, 1.8],\n",
    "              'max_depth': np.arange(2, 5, step=1), \n",
    "              'learning_rate': 2**np.arange(-8., 2., step=2),\n",
    "              'subsample': [0.6, 0.7, 0.8],\n",
    "              'lambda_l1': [0.01, 0.1, 1],\n",
    "              'lambda_l2': [0.01, 0.1, 1e-1, 1]}\n",
    "\n",
    "lgb = LGBMRegressor(objective='huber', n_estimators=100)\n",
    "param_tuner = RandomizedSearchCV(lgb, parameters, n_iter=20, cv=5, refit=True, verbose=1)\n",
    "param_tuner.fit(Xtrn, ytrn, eval_set=[(Xtst, ytst)], eval_metric='mse', verbose=False)\n",
    "\n",
    "ypred_trn = param_tuner.best_estimator_.predict(Xtrn)\n",
    "ypred_tst = param_tuner.best_estimator_.predict(Xtst)\n",
    "print('Train MSE = {0:5.4f}, Train MAE = {1:5.4f}\\n' \\\n",
    "      'Test MSE = {2:5.4f}, Test MAE = {3:5.4f}'.format(\n",
    "      mean_squared_error(ytrn, ypred_trn), mean_absolute_error(ytrn, ypred_trn),\n",
    "      mean_squared_error(ytst, ypred_tst), mean_absolute_error(ytst, ypred_tst)))"
   ]
  },
  {
   "cell_type": "markdown",
   "metadata": {},
   "source": [
    "**Listing 7.7**. Using XGBoost with pseudo-Huber Loss"
   ]
  },
  {
   "cell_type": "code",
   "execution_count": 14,
   "metadata": {
    "scrolled": false
   },
   "outputs": [
    {
     "name": "stdout",
     "output_type": "stream",
     "text": [
      "Fitting 5 folds for each of 20 candidates, totalling 100 fits\n",
      "Train MSE = 0.0507, Train MAE = 0.1643\n",
      "Test MSE = 0.0960, Test MAE = 0.2281\n"
     ]
    }
   ],
   "source": [
    "from xgboost import XGBRegressor\n",
    "\n",
    "parameters = {'max_depth': np.arange(2, 5, step=1), \n",
    "              'learning_rate': 2**np.arange(-8., 2., step=2),\n",
    "              'colsample_bytree': [0.6, 0.7, 0.8],\n",
    "              'reg_alpha': [0.01, 0.1, 1],\n",
    "              'reg_lambda': [0.01, 0.1, 1e-1, 1]}\n",
    "\n",
    "xgb = XGBRegressor(objective='reg:pseudohubererror')\n",
    "param_tuner = RandomizedSearchCV(xgb, parameters, n_iter=20, cv=5, refit=True, verbose=1)\n",
    "param_tuner.fit(Xtrn, ytrn, eval_set=[(Xtst, ytst)], eval_metric='rmse', verbose=False)\n",
    "\n",
    "ypred_trn = param_tuner.best_estimator_.predict(Xtrn)\n",
    "ypred_tst = param_tuner.best_estimator_.predict(Xtst)\n",
    "print('Train MSE = {0:5.4f}, Train MAE = {1:5.4f}\\n' \\\n",
    "      'Test MSE = {2:5.4f}, Test MAE = {3:5.4f}'.format(\n",
    "      mean_squared_error(ytrn, ypred_trn), mean_absolute_error(ytrn, ypred_trn),\n",
    "      mean_squared_error(ytst, ypred_tst), mean_absolute_error(ytst, ypred_tst)))"
   ]
  }
 ],
 "metadata": {
  "kernelspec": {
   "display_name": "Python 3 (ipykernel)",
   "language": "python",
   "name": "python3"
  },
  "language_info": {
   "codemirror_mode": {
    "name": "ipython",
    "version": 3
   },
   "file_extension": ".py",
   "mimetype": "text/x-python",
   "name": "python",
   "nbconvert_exporter": "python",
   "pygments_lexer": "ipython3",
   "version": "3.10.5"
  }
 },
 "nbformat": 4,
 "nbformat_minor": 2
}
