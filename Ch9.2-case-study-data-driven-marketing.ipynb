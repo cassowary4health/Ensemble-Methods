{
 "cells": [
  {
   "cell_type": "markdown",
   "id": "7219eba6",
   "metadata": {},
   "source": [
    "_This notebook contains code and comments from Section 9.2 of the book [Ensemble Methods for Machine Learning](https://www.manning.com/books/ensemble-methods-for-machine-learning). Please see the book for additional details on this topic. This notebook and code are released under the [MIT license](https://github.com/gkunapuli/ensemble-methods-notebooks/blob/master/LICENSE)._\n",
    "\n",
    "\n",
    "## 9.2.\tCase Study: Data-Driven Marketing\n",
    "The Bank Marketing Data Set take from the [from the UCI repository](https://archive.ics.uci.edu/ml/datasets/Bank+Marketing). The desciption and data set details below are directly from the data set documentation.\n",
    "\n",
    "**Description**: The data is related with direct marketing campaigns of a Portuguese banking institution. The marketing campaigns were based on phone calls. Often, more than one contact to the same client was required, in order to access if the product (bank term deposit) would be ('yes') or not ('no') subscribed. The classification goal is to predict if the client will subscribe (yes/no) a term deposit (variable y).\n",
    "\n",
    "There are four datasets; we will use the ``bank-additional-full.csv`` with all examples (41188) and 20 inputs, ordered by date (from May 2008 to November 2010), very close to the data analyzed in [Moro et al., 2014].\n",
    "\n",
    "### Input variables:\n",
    "\n",
    "#### bank client data:\n",
    "1. ``age`` (numeric)\n",
    "2. ``job``: type of job (categorical: 'admin.', 'blue-collar', 'entrepreneur', 'housemaid', 'management', 'retired', 'self-employed', 'services', 'student', 'technician', 'unemployed', 'unknown')\n",
    "3. ``marital``: marital status (categorical: 'divorced', 'married', 'single', 'unknown'; note: 'divorced' means divorced or widowed)\n",
    "4. ``education`` (categorical: 'basic.4y', 'basic.6y', 'basic.9y', 'high.school', 'illiterate', 'professional.course', 'university.degree', 'unknown')\n",
    "5. ``default``: has credit in default? (categorical: 'no','yes','unknown')\n",
    "6. ``housing``: has housing loan? (categorical: 'no','yes','unknown')\n",
    "7. ``loan``: has personal loan? (categorical: 'no','yes','unknown')\n",
    "\n",
    "#### related with the last contact of the current campaign:\n",
    "8. ``contact``: contact communication type (categorical: 'cellular','telephone')\n",
    "9. ``month``: last contact month of year (categorical: 'jan', 'feb', 'mar', ..., 'nov', 'dec')\n",
    "10. ``day_of_week``: last contact day of the week (categorical: 'mon','tue','wed','thu','fri')\n",
    "11. ``duration``: last contact duration, in seconds (numeric). _Important note: this attribute highly affects the output target (e.g., if duration=0 then y='no'). Yet, the duration is not known before a call is performed. Also, after the end of the call y is obviously known. Thus, this input should only be included for benchmark purposes and should be discarded if the intention is to have a realistic predictive model._\n",
    "\n",
    "#### other attributes:\n",
    "12. ``campaign``: number of contacts performed during this campaign and for this client (numeric, includes last contact)\n",
    "13. ``pdays``: number of days that passed by after the client was last contacted from a previous campaign (numeric; 999 means client was not previously contacted)\n",
    "14. ``previous``: number of contacts performed before this campaign and for this client (numeric)\n",
    "15. ``poutcome``: outcome of the previous marketing campaign (categorical: 'failure','nonexistent','success')\n",
    "\n",
    "#### social and economic context attributes\n",
    "16. ``emp.var.rate``: employment variation rate - quarterly indicator (numeric)\n",
    "17. ``cons.price.idx``: consumer price index - monthly indicator (numeric)\n",
    "18. ``cons.conf.idx``: consumer confidence index - monthly indicator (numeric)\n",
    "19. ``euribor3m``: euribor 3 month rate - daily indicator (numeric). _The Euro Interbank Offered Rate (Euribor) is a daily reference rate, published by the European Money Markets Institute._\n",
    "20. ``nr.employed``: number of employees - quarterly indicator (numeric)\n",
    "\n",
    "### Output variable:\n",
    "21. ``y`` - has the client subscribed a term deposit? (binary: 'yes','no')"
   ]
  },
  {
   "cell_type": "code",
   "execution_count": 1,
   "id": "c422272d",
   "metadata": {},
   "outputs": [],
   "source": [
    "# General imports\n",
    "import pandas as pd\n",
    "import numpy as np\n",
    "import seaborn as sns\n",
    "import matplotlib.pyplot as plt\n",
    "import pickle"
   ]
  },
  {
   "cell_type": "code",
   "execution_count": 2,
   "id": "fd945f24",
   "metadata": {},
   "outputs": [
    {
     "data": {
      "text/html": [
       "<div>\n",
       "<style scoped>\n",
       "    .dataframe tbody tr th:only-of-type {\n",
       "        vertical-align: middle;\n",
       "    }\n",
       "\n",
       "    .dataframe tbody tr th {\n",
       "        vertical-align: top;\n",
       "    }\n",
       "\n",
       "    .dataframe thead th {\n",
       "        text-align: right;\n",
       "    }\n",
       "</style>\n",
       "<table border=\"1\" class=\"dataframe\">\n",
       "  <thead>\n",
       "    <tr style=\"text-align: right;\">\n",
       "      <th></th>\n",
       "      <th>age</th>\n",
       "      <th>job</th>\n",
       "      <th>marital</th>\n",
       "      <th>education</th>\n",
       "      <th>default</th>\n",
       "      <th>housing</th>\n",
       "      <th>loan</th>\n",
       "      <th>contact</th>\n",
       "      <th>month</th>\n",
       "      <th>day_of_week</th>\n",
       "      <th>campaign</th>\n",
       "      <th>pdays</th>\n",
       "      <th>previous</th>\n",
       "      <th>poutcome</th>\n",
       "      <th>emp.var.rate</th>\n",
       "      <th>cons.price.idx</th>\n",
       "      <th>cons.conf.idx</th>\n",
       "      <th>euribor3m</th>\n",
       "      <th>nr.employed</th>\n",
       "      <th>y</th>\n",
       "    </tr>\n",
       "  </thead>\n",
       "  <tbody>\n",
       "    <tr>\n",
       "      <th>0</th>\n",
       "      <td>56</td>\n",
       "      <td>housemaid</td>\n",
       "      <td>married</td>\n",
       "      <td>basic.4y</td>\n",
       "      <td>no</td>\n",
       "      <td>no</td>\n",
       "      <td>no</td>\n",
       "      <td>telephone</td>\n",
       "      <td>may</td>\n",
       "      <td>mon</td>\n",
       "      <td>1</td>\n",
       "      <td>999</td>\n",
       "      <td>0</td>\n",
       "      <td>nonexistent</td>\n",
       "      <td>1.1</td>\n",
       "      <td>93.994</td>\n",
       "      <td>-36.4</td>\n",
       "      <td>4.857</td>\n",
       "      <td>5191.0</td>\n",
       "      <td>no</td>\n",
       "    </tr>\n",
       "    <tr>\n",
       "      <th>1</th>\n",
       "      <td>57</td>\n",
       "      <td>services</td>\n",
       "      <td>married</td>\n",
       "      <td>high.school</td>\n",
       "      <td>unknown</td>\n",
       "      <td>no</td>\n",
       "      <td>no</td>\n",
       "      <td>telephone</td>\n",
       "      <td>may</td>\n",
       "      <td>mon</td>\n",
       "      <td>1</td>\n",
       "      <td>999</td>\n",
       "      <td>0</td>\n",
       "      <td>nonexistent</td>\n",
       "      <td>1.1</td>\n",
       "      <td>93.994</td>\n",
       "      <td>-36.4</td>\n",
       "      <td>4.857</td>\n",
       "      <td>5191.0</td>\n",
       "      <td>no</td>\n",
       "    </tr>\n",
       "    <tr>\n",
       "      <th>2</th>\n",
       "      <td>37</td>\n",
       "      <td>services</td>\n",
       "      <td>married</td>\n",
       "      <td>high.school</td>\n",
       "      <td>no</td>\n",
       "      <td>yes</td>\n",
       "      <td>no</td>\n",
       "      <td>telephone</td>\n",
       "      <td>may</td>\n",
       "      <td>mon</td>\n",
       "      <td>1</td>\n",
       "      <td>999</td>\n",
       "      <td>0</td>\n",
       "      <td>nonexistent</td>\n",
       "      <td>1.1</td>\n",
       "      <td>93.994</td>\n",
       "      <td>-36.4</td>\n",
       "      <td>4.857</td>\n",
       "      <td>5191.0</td>\n",
       "      <td>no</td>\n",
       "    </tr>\n",
       "    <tr>\n",
       "      <th>3</th>\n",
       "      <td>40</td>\n",
       "      <td>admin.</td>\n",
       "      <td>married</td>\n",
       "      <td>basic.6y</td>\n",
       "      <td>no</td>\n",
       "      <td>no</td>\n",
       "      <td>no</td>\n",
       "      <td>telephone</td>\n",
       "      <td>may</td>\n",
       "      <td>mon</td>\n",
       "      <td>1</td>\n",
       "      <td>999</td>\n",
       "      <td>0</td>\n",
       "      <td>nonexistent</td>\n",
       "      <td>1.1</td>\n",
       "      <td>93.994</td>\n",
       "      <td>-36.4</td>\n",
       "      <td>4.857</td>\n",
       "      <td>5191.0</td>\n",
       "      <td>no</td>\n",
       "    </tr>\n",
       "    <tr>\n",
       "      <th>4</th>\n",
       "      <td>56</td>\n",
       "      <td>services</td>\n",
       "      <td>married</td>\n",
       "      <td>high.school</td>\n",
       "      <td>no</td>\n",
       "      <td>no</td>\n",
       "      <td>yes</td>\n",
       "      <td>telephone</td>\n",
       "      <td>may</td>\n",
       "      <td>mon</td>\n",
       "      <td>1</td>\n",
       "      <td>999</td>\n",
       "      <td>0</td>\n",
       "      <td>nonexistent</td>\n",
       "      <td>1.1</td>\n",
       "      <td>93.994</td>\n",
       "      <td>-36.4</td>\n",
       "      <td>4.857</td>\n",
       "      <td>5191.0</td>\n",
       "      <td>no</td>\n",
       "    </tr>\n",
       "  </tbody>\n",
       "</table>\n",
       "</div>"
      ],
      "text/plain": [
       "   age        job  marital    education  default housing loan    contact  \\\n",
       "0   56  housemaid  married     basic.4y       no      no   no  telephone   \n",
       "1   57   services  married  high.school  unknown      no   no  telephone   \n",
       "2   37   services  married  high.school       no     yes   no  telephone   \n",
       "3   40     admin.  married     basic.6y       no      no   no  telephone   \n",
       "4   56   services  married  high.school       no      no  yes  telephone   \n",
       "\n",
       "  month day_of_week  campaign  pdays  previous     poutcome  emp.var.rate  \\\n",
       "0   may         mon         1    999         0  nonexistent           1.1   \n",
       "1   may         mon         1    999         0  nonexistent           1.1   \n",
       "2   may         mon         1    999         0  nonexistent           1.1   \n",
       "3   may         mon         1    999         0  nonexistent           1.1   \n",
       "4   may         mon         1    999         0  nonexistent           1.1   \n",
       "\n",
       "   cons.price.idx  cons.conf.idx  euribor3m  nr.employed   y  \n",
       "0          93.994          -36.4      4.857       5191.0  no  \n",
       "1          93.994          -36.4      4.857       5191.0  no  \n",
       "2          93.994          -36.4      4.857       5191.0  no  \n",
       "3          93.994          -36.4      4.857       5191.0  no  \n",
       "4          93.994          -36.4      4.857       5191.0  no  "
      ]
     },
     "execution_count": 2,
     "metadata": {},
     "output_type": "execute_result"
    }
   ],
   "source": [
    "# Load data set\n",
    "data_file = './data/ch09/bank-additional-full.csv'\n",
    "df = pd.read_csv(data_file, sep=';')\n",
    "\n",
    "# Drop 'duration' column as it is essentially another output variable\n",
    "df = df.drop('duration', axis=1)\n",
    "df.head()"
   ]
  },
  {
   "cell_type": "markdown",
   "id": "39e1d9ea",
   "metadata": {},
   "source": [
    "The listing below loads the data set, splits into training and test sets and pre-processes them. The continuous features are scaled to between 0 and 1 using scikit-learn’s ``MinMaxEncoder`` and the categorical features are encoded with ``OrdinalEncoder``.\n",
    "\n",
    "**Listing 9.3.** Load and preprocess the Bank Marketing Data Set"
   ]
  },
  {
   "cell_type": "code",
   "execution_count": 3,
   "id": "01a11efc",
   "metadata": {},
   "outputs": [],
   "source": [
    "from sklearn.model_selection import train_test_split\n",
    "\n",
    "# Split the dataframe into features and labels\n",
    "y = df['y']\n",
    "X = df.drop('y', axis=1)\n",
    "\n",
    "# Split into train and test with stratified sampling to preserve class balances\n",
    "Xtrn, Xtst, ytrn, ytst = train_test_split(X, y, stratify=y, test_size=0.25) "
   ]
  },
  {
   "cell_type": "code",
   "execution_count": 4,
   "id": "ed98a2d4",
   "metadata": {},
   "outputs": [],
   "source": [
    "# Preprocess the labels\n",
    "from sklearn.preprocessing import LabelEncoder\n",
    "\n",
    "preprocess_labels = LabelEncoder()\n",
    "ytrn = preprocess_labels.fit_transform(ytrn).astype(float)\n",
    "ytst = preprocess_labels.transform(ytst)"
   ]
  },
  {
   "cell_type": "code",
   "execution_count": 5,
   "id": "3c4c9dd8",
   "metadata": {},
   "outputs": [],
   "source": [
    "# Preprocess the features\n",
    "from sklearn.preprocessing import MinMaxScaler, OrdinalEncoder\n",
    "from sklearn.pipeline import Pipeline\n",
    "from sklearn.compose import ColumnTransformer\n",
    "\n",
    "cat_features = ['default', 'housing', 'loan', 'contact', 'poutcome', \n",
    "                'job', 'marital', 'education', 'month', 'day_of_week']\n",
    "cntnous_features = ['age', 'campaign', 'pdays', 'previous', 'emp.var.rate', \n",
    "                    'cons.price.idx', 'cons.conf.idx', 'nr.employed', 'euribor3m']\n",
    "\n",
    "preprocess_categorical = Pipeline(steps=[('encoder', OrdinalEncoder())])\n",
    "preprocess_numerical = Pipeline(steps=[('scaler', MinMaxScaler())])\n",
    "data_transformer = ColumnTransformer(transformers=[('categorical', preprocess_categorical, cat_features),\n",
    "                                                   ('numerical', preprocess_numerical, cntnous_features)])\n",
    "all_features = cat_features + cntnous_features\n",
    "\n",
    "Xtrn = pd.DataFrame(data_transformer.fit_transform(Xtrn), columns=all_features)\n",
    "Xtst = pd.DataFrame(data_transformer.transform(Xtst), columns=all_features)"
   ]
  },
  {
   "cell_type": "code",
   "execution_count": 6,
   "id": "0ef2faea",
   "metadata": {},
   "outputs": [],
   "source": [
    "# Save the pre-processed data\n",
    "data = {}\n",
    "data['Xtrn'] = Xtrn\n",
    "data['Xtst'] = Xtst\n",
    "data['ytrn'] = ytrn\n",
    "data['ytst'] = ytst\n",
    "\n",
    "with open('./data/ch09/bank_marketing_data.pickle', 'wb') as handle:\n",
    "    pickle.dump(data, handle, protocol=pickle.HIGHEST_PROTOCOL)"
   ]
  },
  {
   "cell_type": "markdown",
   "id": "826df2b8",
   "metadata": {},
   "source": [
    "---\n",
    "### Modeling with XGBoost\n",
    "The listing below shows how we can train an XGBoost ensemble over this data set. We use randomized grid search combined with 5-fold cross validation and early stopping (see Chapter 6 for additional details) to select among various hyperparameters such as learning rate and regularization parameters.\n",
    "\n",
    "**Listing 9.3.** Training XGBoost on the bank marketing data set"
   ]
  },
  {
   "cell_type": "code",
   "execution_count": 7,
   "id": "fa4ff705",
   "metadata": {
    "scrolled": false
   },
   "outputs": [
    {
     "name": "stdout",
     "output_type": "stream",
     "text": [
      "Fitting 5 folds for each of 40 candidates, totalling 200 fits\n"
     ]
    },
    {
     "name": "stderr",
     "output_type": "stream",
     "text": [
      "C:\\Python310\\lib\\site-packages\\xgboost\\sklearn.py:793: UserWarning: `eval_metric` in `fit` method is deprecated for better compatibility with scikit-learn, use `eval_metric` in constructor or`set_params` instead.\n",
      "  warnings.warn(\n",
      "C:\\Python310\\lib\\site-packages\\xgboost\\sklearn.py:793: UserWarning: `early_stopping_rounds` in `fit` method is deprecated for better compatibility with scikit-learn, use `early_stopping_rounds` in constructor or`set_params` instead.\n",
      "  warnings.warn(\n"
     ]
    },
    {
     "data": {
      "text/html": [
       "<style>#sk-container-id-1 {color: black;background-color: white;}#sk-container-id-1 pre{padding: 0;}#sk-container-id-1 div.sk-toggleable {background-color: white;}#sk-container-id-1 label.sk-toggleable__label {cursor: pointer;display: block;width: 100%;margin-bottom: 0;padding: 0.3em;box-sizing: border-box;text-align: center;}#sk-container-id-1 label.sk-toggleable__label-arrow:before {content: \"▸\";float: left;margin-right: 0.25em;color: #696969;}#sk-container-id-1 label.sk-toggleable__label-arrow:hover:before {color: black;}#sk-container-id-1 div.sk-estimator:hover label.sk-toggleable__label-arrow:before {color: black;}#sk-container-id-1 div.sk-toggleable__content {max-height: 0;max-width: 0;overflow: hidden;text-align: left;background-color: #f0f8ff;}#sk-container-id-1 div.sk-toggleable__content pre {margin: 0.2em;color: black;border-radius: 0.25em;background-color: #f0f8ff;}#sk-container-id-1 input.sk-toggleable__control:checked~div.sk-toggleable__content {max-height: 200px;max-width: 100%;overflow: auto;}#sk-container-id-1 input.sk-toggleable__control:checked~label.sk-toggleable__label-arrow:before {content: \"▾\";}#sk-container-id-1 div.sk-estimator input.sk-toggleable__control:checked~label.sk-toggleable__label {background-color: #d4ebff;}#sk-container-id-1 div.sk-label input.sk-toggleable__control:checked~label.sk-toggleable__label {background-color: #d4ebff;}#sk-container-id-1 input.sk-hidden--visually {border: 0;clip: rect(1px 1px 1px 1px);clip: rect(1px, 1px, 1px, 1px);height: 1px;margin: -1px;overflow: hidden;padding: 0;position: absolute;width: 1px;}#sk-container-id-1 div.sk-estimator {font-family: monospace;background-color: #f0f8ff;border: 1px dotted black;border-radius: 0.25em;box-sizing: border-box;margin-bottom: 0.5em;}#sk-container-id-1 div.sk-estimator:hover {background-color: #d4ebff;}#sk-container-id-1 div.sk-parallel-item::after {content: \"\";width: 100%;border-bottom: 1px solid gray;flex-grow: 1;}#sk-container-id-1 div.sk-label:hover label.sk-toggleable__label {background-color: #d4ebff;}#sk-container-id-1 div.sk-serial::before {content: \"\";position: absolute;border-left: 1px solid gray;box-sizing: border-box;top: 0;bottom: 0;left: 50%;z-index: 0;}#sk-container-id-1 div.sk-serial {display: flex;flex-direction: column;align-items: center;background-color: white;padding-right: 0.2em;padding-left: 0.2em;position: relative;}#sk-container-id-1 div.sk-item {position: relative;z-index: 1;}#sk-container-id-1 div.sk-parallel {display: flex;align-items: stretch;justify-content: center;background-color: white;position: relative;}#sk-container-id-1 div.sk-item::before, #sk-container-id-1 div.sk-parallel-item::before {content: \"\";position: absolute;border-left: 1px solid gray;box-sizing: border-box;top: 0;bottom: 0;left: 50%;z-index: -1;}#sk-container-id-1 div.sk-parallel-item {display: flex;flex-direction: column;z-index: 1;position: relative;background-color: white;}#sk-container-id-1 div.sk-parallel-item:first-child::after {align-self: flex-end;width: 50%;}#sk-container-id-1 div.sk-parallel-item:last-child::after {align-self: flex-start;width: 50%;}#sk-container-id-1 div.sk-parallel-item:only-child::after {width: 0;}#sk-container-id-1 div.sk-dashed-wrapped {border: 1px dashed gray;margin: 0 0.4em 0.5em 0.4em;box-sizing: border-box;padding-bottom: 0.4em;background-color: white;}#sk-container-id-1 div.sk-label label {font-family: monospace;font-weight: bold;display: inline-block;line-height: 1.2em;}#sk-container-id-1 div.sk-label-container {text-align: center;}#sk-container-id-1 div.sk-container {/* jupyter's `normalize.less` sets `[hidden] { display: none; }` but bootstrap.min.css set `[hidden] { display: none !important; }` so we also need the `!important` here to be able to override the default hidden behavior on the sphinx rendered scikit-learn.org. See: https://github.com/scikit-learn/scikit-learn/issues/21755 */display: inline-block !important;position: relative;}#sk-container-id-1 div.sk-text-repr-fallback {display: none;}</style><div id=\"sk-container-id-1\" class=\"sk-top-container\"><div class=\"sk-text-repr-fallback\"><pre>RandomizedSearchCV(cv=5,\n",
       "                   estimator=XGBClassifier(base_score=None, booster=None,\n",
       "                                           callbacks=None,\n",
       "                                           colsample_bylevel=None,\n",
       "                                           colsample_bynode=None,\n",
       "                                           colsample_bytree=None,\n",
       "                                           early_stopping_rounds=None,\n",
       "                                           enable_categorical=False,\n",
       "                                           eval_metric=None, gamma=None,\n",
       "                                           gpu_id=None, grow_policy=None,\n",
       "                                           importance_type=None,\n",
       "                                           interaction_constraints=None,\n",
       "                                           learning_rate=None, max_bin=None,...\n",
       "                                           num_parallel_tree=None,\n",
       "                                           predictor=None, random_state=None,\n",
       "                                           reg_alpha=None, reg_lambda=None, ...),\n",
       "                   n_iter=40, n_jobs=-1,\n",
       "                   param_distributions={&#x27;alpha&#x27;: [0, 0.001, 0.01, 0.1],\n",
       "                                        &#x27;colsample_bytree&#x27;: [0.5, 0.6, 0.7],\n",
       "                                        &#x27;lambda&#x27;: [0.001, 0.01, 0.1, 1],\n",
       "                                        &#x27;learning_rate&#x27;: [0.001, 0.01, 0.1],\n",
       "                                        &#x27;max_depth&#x27;: [3, 5, 7, 9],\n",
       "                                        &#x27;n_estimators&#x27;: [100],\n",
       "                                        &#x27;scale_pos_weight&#x27;: [5, 10, 50, 100],\n",
       "                                        &#x27;subsample&#x27;: [0.6, 0.7, 0.8, 0.9]},\n",
       "                   verbose=2)</pre><b>In a Jupyter environment, please rerun this cell to show the HTML representation or trust the notebook. <br />On GitHub, the HTML representation is unable to render, please try loading this page with nbviewer.org.</b></div><div class=\"sk-container\" hidden><div class=\"sk-item sk-dashed-wrapped\"><div class=\"sk-label-container\"><div class=\"sk-label sk-toggleable\"><input class=\"sk-toggleable__control sk-hidden--visually\" id=\"sk-estimator-id-1\" type=\"checkbox\" ><label for=\"sk-estimator-id-1\" class=\"sk-toggleable__label sk-toggleable__label-arrow\">RandomizedSearchCV</label><div class=\"sk-toggleable__content\"><pre>RandomizedSearchCV(cv=5,\n",
       "                   estimator=XGBClassifier(base_score=None, booster=None,\n",
       "                                           callbacks=None,\n",
       "                                           colsample_bylevel=None,\n",
       "                                           colsample_bynode=None,\n",
       "                                           colsample_bytree=None,\n",
       "                                           early_stopping_rounds=None,\n",
       "                                           enable_categorical=False,\n",
       "                                           eval_metric=None, gamma=None,\n",
       "                                           gpu_id=None, grow_policy=None,\n",
       "                                           importance_type=None,\n",
       "                                           interaction_constraints=None,\n",
       "                                           learning_rate=None, max_bin=None,...\n",
       "                                           num_parallel_tree=None,\n",
       "                                           predictor=None, random_state=None,\n",
       "                                           reg_alpha=None, reg_lambda=None, ...),\n",
       "                   n_iter=40, n_jobs=-1,\n",
       "                   param_distributions={&#x27;alpha&#x27;: [0, 0.001, 0.01, 0.1],\n",
       "                                        &#x27;colsample_bytree&#x27;: [0.5, 0.6, 0.7],\n",
       "                                        &#x27;lambda&#x27;: [0.001, 0.01, 0.1, 1],\n",
       "                                        &#x27;learning_rate&#x27;: [0.001, 0.01, 0.1],\n",
       "                                        &#x27;max_depth&#x27;: [3, 5, 7, 9],\n",
       "                                        &#x27;n_estimators&#x27;: [100],\n",
       "                                        &#x27;scale_pos_weight&#x27;: [5, 10, 50, 100],\n",
       "                                        &#x27;subsample&#x27;: [0.6, 0.7, 0.8, 0.9]},\n",
       "                   verbose=2)</pre></div></div></div><div class=\"sk-parallel\"><div class=\"sk-parallel-item\"><div class=\"sk-item\"><div class=\"sk-label-container\"><div class=\"sk-label sk-toggleable\"><input class=\"sk-toggleable__control sk-hidden--visually\" id=\"sk-estimator-id-2\" type=\"checkbox\" ><label for=\"sk-estimator-id-2\" class=\"sk-toggleable__label sk-toggleable__label-arrow\">estimator: XGBClassifier</label><div class=\"sk-toggleable__content\"><pre>XGBClassifier(base_score=None, booster=None, callbacks=None,\n",
       "              colsample_bylevel=None, colsample_bynode=None,\n",
       "              colsample_bytree=None, early_stopping_rounds=None,\n",
       "              enable_categorical=False, eval_metric=None, gamma=None,\n",
       "              gpu_id=None, grow_policy=None, importance_type=None,\n",
       "              interaction_constraints=None, learning_rate=None, max_bin=None,\n",
       "              max_cat_to_onehot=None, max_delta_step=None, max_depth=None,\n",
       "              max_leaves=None, min_child_weight=None, missing=nan,\n",
       "              monotone_constraints=None, n_estimators=100, n_jobs=None,\n",
       "              num_parallel_tree=None, predictor=None, random_state=None,\n",
       "              reg_alpha=None, reg_lambda=None, ...)</pre></div></div></div><div class=\"sk-serial\"><div class=\"sk-item\"><div class=\"sk-estimator sk-toggleable\"><input class=\"sk-toggleable__control sk-hidden--visually\" id=\"sk-estimator-id-3\" type=\"checkbox\" ><label for=\"sk-estimator-id-3\" class=\"sk-toggleable__label sk-toggleable__label-arrow\">XGBClassifier</label><div class=\"sk-toggleable__content\"><pre>XGBClassifier(base_score=None, booster=None, callbacks=None,\n",
       "              colsample_bylevel=None, colsample_bynode=None,\n",
       "              colsample_bytree=None, early_stopping_rounds=None,\n",
       "              enable_categorical=False, eval_metric=None, gamma=None,\n",
       "              gpu_id=None, grow_policy=None, importance_type=None,\n",
       "              interaction_constraints=None, learning_rate=None, max_bin=None,\n",
       "              max_cat_to_onehot=None, max_delta_step=None, max_depth=None,\n",
       "              max_leaves=None, min_child_weight=None, missing=nan,\n",
       "              monotone_constraints=None, n_estimators=100, n_jobs=None,\n",
       "              num_parallel_tree=None, predictor=None, random_state=None,\n",
       "              reg_alpha=None, reg_lambda=None, ...)</pre></div></div></div></div></div></div></div></div></div></div>"
      ],
      "text/plain": [
       "RandomizedSearchCV(cv=5,\n",
       "                   estimator=XGBClassifier(base_score=None, booster=None,\n",
       "                                           callbacks=None,\n",
       "                                           colsample_bylevel=None,\n",
       "                                           colsample_bynode=None,\n",
       "                                           colsample_bytree=None,\n",
       "                                           early_stopping_rounds=None,\n",
       "                                           enable_categorical=False,\n",
       "                                           eval_metric=None, gamma=None,\n",
       "                                           gpu_id=None, grow_policy=None,\n",
       "                                           importance_type=None,\n",
       "                                           interaction_constraints=None,\n",
       "                                           learning_rate=None, max_bin=None,...\n",
       "                                           num_parallel_tree=None,\n",
       "                                           predictor=None, random_state=None,\n",
       "                                           reg_alpha=None, reg_lambda=None, ...),\n",
       "                   n_iter=40, n_jobs=-1,\n",
       "                   param_distributions={'alpha': [0, 0.001, 0.01, 0.1],\n",
       "                                        'colsample_bytree': [0.5, 0.6, 0.7],\n",
       "                                        'lambda': [0.001, 0.01, 0.1, 1],\n",
       "                                        'learning_rate': [0.001, 0.01, 0.1],\n",
       "                                        'max_depth': [3, 5, 7, 9],\n",
       "                                        'n_estimators': [100],\n",
       "                                        'scale_pos_weight': [5, 10, 50, 100],\n",
       "                                        'subsample': [0.6, 0.7, 0.8, 0.9]},\n",
       "                   verbose=2)"
      ]
     },
     "execution_count": 7,
     "metadata": {},
     "output_type": "execute_result"
    }
   ],
   "source": [
    "from xgboost import XGBClassifier\n",
    "from sklearn.model_selection import RandomizedSearchCV\n",
    "\n",
    "xgb_params = {'learning_rate': [0.001, 0.01, 0.1],  # Learning rate  \n",
    "              'n_estimators': [100],                # Maximum number of trees\n",
    "              'max_depth': [3, 5, 7, 9],            # Maximum tree depth     \n",
    "              'lambda': [0.001, 0.01, 0.1, 1],      # L2 regularization\n",
    "              'alpha': [0, 0.001, 0.01, 0.1],       # L1 regularization \n",
    "              'subsample': [0.6, 0.7, 0.8, 0.9],    # Fraction of rows to sample\n",
    "              'colsample_bytree': [0.5, 0.6, 0.7],  # Fraction of columns to sample\n",
    "              'scale_pos_weight': [5, 10, 50, 100]  # Weight on postive examples (imbalanced data set)\n",
    "             }\n",
    "\n",
    "fit_params = {'early_stopping_rounds': 15,\n",
    "              'eval_metric': 'aucpr',\n",
    "              'eval_set': [(Xtst, ytst)],\n",
    "              'verbose': 0\n",
    "}\n",
    "\n",
    "xgb = XGBClassifier(objective='binary:logistic', use_label_encoder=False) \n",
    "xgb_search = RandomizedSearchCV(xgb, xgb_params, cv=5, n_iter=40, verbose=2, n_jobs=-1)\n",
    "xgb_search.fit(X=Xtrn, y=ytrn.ravel(), **fit_params)"
   ]
  },
  {
   "cell_type": "code",
   "execution_count": 8,
   "id": "577230a3",
   "metadata": {},
   "outputs": [
    {
     "data": {
      "text/plain": [
       "0.8711599366079333"
      ]
     },
     "execution_count": 8,
     "metadata": {},
     "output_type": "execute_result"
    }
   ],
   "source": [
    "xgb_search.best_score_"
   ]
  },
  {
   "cell_type": "code",
   "execution_count": 9,
   "id": "3cb5af5c",
   "metadata": {},
   "outputs": [
    {
     "data": {
      "text/plain": [
       "{'subsample': 0.7,\n",
       " 'scale_pos_weight': 5,\n",
       " 'n_estimators': 100,\n",
       " 'max_depth': 7,\n",
       " 'learning_rate': 0.1,\n",
       " 'lambda': 1,\n",
       " 'colsample_bytree': 0.5,\n",
       " 'alpha': 0.01}"
      ]
     },
     "execution_count": 9,
     "metadata": {},
     "output_type": "execute_result"
    }
   ],
   "source": [
    "xgb_search.best_params_"
   ]
  },
  {
   "cell_type": "code",
   "execution_count": 10,
   "id": "b3c51bd9",
   "metadata": {},
   "outputs": [
    {
     "data": {
      "text/plain": [
       "<BarContainer object of 19 artists>"
      ]
     },
     "execution_count": 10,
     "metadata": {},
     "output_type": "execute_result"
    },
    {
     "data": {
      "image/png": "[encoded data removed]",
      "text/plain": [
       "<Figure size 576x216 with 1 Axes>"
      ]
     },
     "metadata": {
      "needs_background": "light"
     },
     "output_type": "display_data"
    }
   ],
   "source": [
    "# Each XGBoost ensemble has its own feature importances\n",
    "scores = xgb_search.best_estimator_.feature_importances_\n",
    "features = Xtrn.columns.to_numpy()\n",
    "srtd = np.argsort(scores)\n",
    "\n",
    "fig, ax = plt.subplots(nrows=1, ncols=1, figsize=(8, 3))\n",
    "ax.barh(y=features[srtd], width=scores[srtd])"
   ]
  },
  {
   "cell_type": "markdown",
   "id": "f7696e4b",
   "metadata": {},
   "source": [
    "---\n",
    "### Modeling with Random Forests\n",
    "The listing below shows how we can train an random forest ensemble over this data set\n",
    "\n",
    "**Listing 9.4.** Training a random forest on the bank marketing data set"
   ]
  },
  {
   "cell_type": "code",
   "execution_count": 11,
   "id": "e8bd7911",
   "metadata": {},
   "outputs": [
    {
     "name": "stdout",
     "output_type": "stream",
     "text": [
      "Fitting 5 folds for each of 30 candidates, totalling 150 fits\n"
     ]
    },
    {
     "data": {
      "text/html": [
       "<style>#sk-container-id-2 {color: black;background-color: white;}#sk-container-id-2 pre{padding: 0;}#sk-container-id-2 div.sk-toggleable {background-color: white;}#sk-container-id-2 label.sk-toggleable__label {cursor: pointer;display: block;width: 100%;margin-bottom: 0;padding: 0.3em;box-sizing: border-box;text-align: center;}#sk-container-id-2 label.sk-toggleable__label-arrow:before {content: \"▸\";float: left;margin-right: 0.25em;color: #696969;}#sk-container-id-2 label.sk-toggleable__label-arrow:hover:before {color: black;}#sk-container-id-2 div.sk-estimator:hover label.sk-toggleable__label-arrow:before {color: black;}#sk-container-id-2 div.sk-toggleable__content {max-height: 0;max-width: 0;overflow: hidden;text-align: left;background-color: #f0f8ff;}#sk-container-id-2 div.sk-toggleable__content pre {margin: 0.2em;color: black;border-radius: 0.25em;background-color: #f0f8ff;}#sk-container-id-2 input.sk-toggleable__control:checked~div.sk-toggleable__content {max-height: 200px;max-width: 100%;overflow: auto;}#sk-container-id-2 input.sk-toggleable__control:checked~label.sk-toggleable__label-arrow:before {content: \"▾\";}#sk-container-id-2 div.sk-estimator input.sk-toggleable__control:checked~label.sk-toggleable__label {background-color: #d4ebff;}#sk-container-id-2 div.sk-label input.sk-toggleable__control:checked~label.sk-toggleable__label {background-color: #d4ebff;}#sk-container-id-2 input.sk-hidden--visually {border: 0;clip: rect(1px 1px 1px 1px);clip: rect(1px, 1px, 1px, 1px);height: 1px;margin: -1px;overflow: hidden;padding: 0;position: absolute;width: 1px;}#sk-container-id-2 div.sk-estimator {font-family: monospace;background-color: #f0f8ff;border: 1px dotted black;border-radius: 0.25em;box-sizing: border-box;margin-bottom: 0.5em;}#sk-container-id-2 div.sk-estimator:hover {background-color: #d4ebff;}#sk-container-id-2 div.sk-parallel-item::after {content: \"\";width: 100%;border-bottom: 1px solid gray;flex-grow: 1;}#sk-container-id-2 div.sk-label:hover label.sk-toggleable__label {background-color: #d4ebff;}#sk-container-id-2 div.sk-serial::before {content: \"\";position: absolute;border-left: 1px solid gray;box-sizing: border-box;top: 0;bottom: 0;left: 50%;z-index: 0;}#sk-container-id-2 div.sk-serial {display: flex;flex-direction: column;align-items: center;background-color: white;padding-right: 0.2em;padding-left: 0.2em;position: relative;}#sk-container-id-2 div.sk-item {position: relative;z-index: 1;}#sk-container-id-2 div.sk-parallel {display: flex;align-items: stretch;justify-content: center;background-color: white;position: relative;}#sk-container-id-2 div.sk-item::before, #sk-container-id-2 div.sk-parallel-item::before {content: \"\";position: absolute;border-left: 1px solid gray;box-sizing: border-box;top: 0;bottom: 0;left: 50%;z-index: -1;}#sk-container-id-2 div.sk-parallel-item {display: flex;flex-direction: column;z-index: 1;position: relative;background-color: white;}#sk-container-id-2 div.sk-parallel-item:first-child::after {align-self: flex-end;width: 50%;}#sk-container-id-2 div.sk-parallel-item:last-child::after {align-self: flex-start;width: 50%;}#sk-container-id-2 div.sk-parallel-item:only-child::after {width: 0;}#sk-container-id-2 div.sk-dashed-wrapped {border: 1px dashed gray;margin: 0 0.4em 0.5em 0.4em;box-sizing: border-box;padding-bottom: 0.4em;background-color: white;}#sk-container-id-2 div.sk-label label {font-family: monospace;font-weight: bold;display: inline-block;line-height: 1.2em;}#sk-container-id-2 div.sk-label-container {text-align: center;}#sk-container-id-2 div.sk-container {/* jupyter's `normalize.less` sets `[hidden] { display: none; }` but bootstrap.min.css set `[hidden] { display: none !important; }` so we also need the `!important` here to be able to override the default hidden behavior on the sphinx rendered scikit-learn.org. See: https://github.com/scikit-learn/scikit-learn/issues/21755 */display: inline-block !important;position: relative;}#sk-container-id-2 div.sk-text-repr-fallback {display: none;}</style><div id=\"sk-container-id-2\" class=\"sk-top-container\"><div class=\"sk-text-repr-fallback\"><pre>RandomizedSearchCV(cv=5,\n",
       "                   estimator=RandomForestClassifier(class_weight={0: 1, 1: 10}),\n",
       "                   n_iter=30, n_jobs=-1,\n",
       "                   param_distributions={&#x27;max_depth&#x27;: [3, 5, 7],\n",
       "                                        &#x27;max_features&#x27;: [0.5, 0.6, 0.7, 0.8],\n",
       "                                        &#x27;max_samples&#x27;: [0.5, 0.6, 0.7, 0.8]},\n",
       "                   verbose=2)</pre><b>In a Jupyter environment, please rerun this cell to show the HTML representation or trust the notebook. <br />On GitHub, the HTML representation is unable to render, please try loading this page with nbviewer.org.</b></div><div class=\"sk-container\" hidden><div class=\"sk-item sk-dashed-wrapped\"><div class=\"sk-label-container\"><div class=\"sk-label sk-toggleable\"><input class=\"sk-toggleable__control sk-hidden--visually\" id=\"sk-estimator-id-4\" type=\"checkbox\" ><label for=\"sk-estimator-id-4\" class=\"sk-toggleable__label sk-toggleable__label-arrow\">RandomizedSearchCV</label><div class=\"sk-toggleable__content\"><pre>RandomizedSearchCV(cv=5,\n",
       "                   estimator=RandomForestClassifier(class_weight={0: 1, 1: 10}),\n",
       "                   n_iter=30, n_jobs=-1,\n",
       "                   param_distributions={&#x27;max_depth&#x27;: [3, 5, 7],\n",
       "                                        &#x27;max_features&#x27;: [0.5, 0.6, 0.7, 0.8],\n",
       "                                        &#x27;max_samples&#x27;: [0.5, 0.6, 0.7, 0.8]},\n",
       "                   verbose=2)</pre></div></div></div><div class=\"sk-parallel\"><div class=\"sk-parallel-item\"><div class=\"sk-item\"><div class=\"sk-label-container\"><div class=\"sk-label sk-toggleable\"><input class=\"sk-toggleable__control sk-hidden--visually\" id=\"sk-estimator-id-5\" type=\"checkbox\" ><label for=\"sk-estimator-id-5\" class=\"sk-toggleable__label sk-toggleable__label-arrow\">estimator: RandomForestClassifier</label><div class=\"sk-toggleable__content\"><pre>RandomForestClassifier(class_weight={0: 1, 1: 10})</pre></div></div></div><div class=\"sk-serial\"><div class=\"sk-item\"><div class=\"sk-estimator sk-toggleable\"><input class=\"sk-toggleable__control sk-hidden--visually\" id=\"sk-estimator-id-6\" type=\"checkbox\" ><label for=\"sk-estimator-id-6\" class=\"sk-toggleable__label sk-toggleable__label-arrow\">RandomForestClassifier</label><div class=\"sk-toggleable__content\"><pre>RandomForestClassifier(class_weight={0: 1, 1: 10})</pre></div></div></div></div></div></div></div></div></div></div>"
      ],
      "text/plain": [
       "RandomizedSearchCV(cv=5,\n",
       "                   estimator=RandomForestClassifier(class_weight={0: 1, 1: 10}),\n",
       "                   n_iter=30, n_jobs=-1,\n",
       "                   param_distributions={'max_depth': [3, 5, 7],\n",
       "                                        'max_features': [0.5, 0.6, 0.7, 0.8],\n",
       "                                        'max_samples': [0.5, 0.6, 0.7, 0.8]},\n",
       "                   verbose=2)"
      ]
     },
     "execution_count": 11,
     "metadata": {},
     "output_type": "execute_result"
    }
   ],
   "source": [
    "from sklearn.ensemble import RandomForestClassifier\n",
    "from sklearn.model_selection import RandomizedSearchCV\n",
    "\n",
    "rf_params = {'max_depth': [3, 5, 7],                # Maximum tree depth     \n",
    "             'max_samples': [0.5, 0.6, 0.7, 0.8],   # Fraction of rows to sample\n",
    "             'max_features': [0.5, 0.6, 0.7, 0.8],  # Fraction of columns to sample\n",
    "             }\n",
    "\n",
    "rf = RandomForestClassifier(class_weight={0: 1, 1: 10}, n_estimators=100) \n",
    "rf_search = RandomizedSearchCV(rf, rf_params, cv=5, n_iter=30, verbose=2, n_jobs=-1)\n",
    "rf_search.fit(X=Xtrn, y=ytrn)"
   ]
  },
  {
   "cell_type": "code",
   "execution_count": 12,
   "id": "4a124f05",
   "metadata": {},
   "outputs": [
    {
     "data": {
      "text/plain": [
       "0.8327992383898699"
      ]
     },
     "execution_count": 12,
     "metadata": {},
     "output_type": "execute_result"
    }
   ],
   "source": [
    "rf_search.best_score_"
   ]
  },
  {
   "cell_type": "code",
   "execution_count": 13,
   "id": "ccb7db60",
   "metadata": {},
   "outputs": [
    {
     "data": {
      "text/plain": [
       "{'max_samples': 0.5, 'max_features': 0.8, 'max_depth': 3}"
      ]
     },
     "execution_count": 13,
     "metadata": {},
     "output_type": "execute_result"
    }
   ],
   "source": [
    "rf_search.best_params_"
   ]
  },
  {
   "cell_type": "code",
   "execution_count": 14,
   "id": "c1c3a1ef",
   "metadata": {
    "scrolled": true
   },
   "outputs": [
    {
     "data": {
      "text/plain": [
       "<BarContainer object of 19 artists>"
      ]
     },
     "execution_count": 14,
     "metadata": {},
     "output_type": "execute_result"
    },
    {
     "data": {
      "image/png": "[encoded data removed]",
      "text/plain": [
       "<Figure size 576x216 with 1 Axes>"
      ]
     },
     "metadata": {
      "needs_background": "light"
     },
     "output_type": "display_data"
    }
   ],
   "source": [
    "# Each random ensemble has its own feature importances\n",
    "scores = rf_search.best_estimator_.feature_importances_\n",
    "features = Xtrn.columns.to_numpy()\n",
    "srtd = np.argsort(scores)\n",
    "\n",
    "fig, ax = plt.subplots(nrows=1, ncols=1, figsize=(8, 3))\n",
    "ax.barh(y=features[srtd], width=scores[srtd])"
   ]
  },
  {
   "cell_type": "code",
   "execution_count": 15,
   "id": "e82ffd63",
   "metadata": {},
   "outputs": [],
   "source": [
    "# Save the trained models as a pickle file\n",
    "models = {'xgb': xgb_search.best_estimator_,\n",
    "          'rf': rf_search.best_estimator_}\n",
    "\n",
    "with open('./data/ch09/bank_marketing_models.pickle', 'wb') as handle:\n",
    "    pickle.dump(models, handle, protocol=pickle.HIGHEST_PROTOCOL)"
   ]
  },
  {
   "cell_type": "code",
   "execution_count": 16,
   "id": "f4e8ee6e",
   "metadata": {},
   "outputs": [
    {
     "name": "stdout",
     "output_type": "stream",
     "text": [
      "{'xgb': XGBClassifier(alpha=0.01, base_score=0.5, booster='gbtree', callbacks=None,\n",
      "              colsample_bylevel=1, colsample_bynode=1, colsample_bytree=0.5,\n",
      "              early_stopping_rounds=None, enable_categorical=False,\n",
      "              eval_metric=None, gamma=0, gpu_id=-1, grow_policy='depthwise',\n",
      "              importance_type=None, interaction_constraints='', lambda=1,\n",
      "              learning_rate=0.1, max_bin=256, max_cat_to_onehot=4,\n",
      "              max_delta_step=0, max_depth=7, max_leaves=0, min_child_weight=1,\n",
      "              missing=nan, monotone_constraints='()', n_estimators=100,\n",
      "              n_jobs=0, num_parallel_tree=1, predictor='auto', random_state=0, ...), 'rf': RandomForestClassifier(class_weight={0: 1, 1: 10}, max_depth=3,\n",
      "                       max_features=0.8, max_samples=0.5)}\n"
     ]
    }
   ],
   "source": [
    "# Load the trained models for visualization of feature importances\n",
    "import pickle\n",
    "\n",
    "with open('./data/ch09/bank_marketing_models.pickle', 'rb') as handle:\n",
    "    models = pickle.load(handle)\n",
    "print(models)"
   ]
  },
  {
   "cell_type": "code",
   "execution_count": 17,
   "id": "d65f5f9f",
   "metadata": {
    "scrolled": false
   },
   "outputs": [
    {
     "data": {
      "image/png": "[encoded data removed]",
      "text/plain": [
       "<Figure size 720x288 with 1 Axes>"
      ]
     },
     "metadata": {
      "needs_background": "light"
     },
     "output_type": "display_data"
    }
   ],
   "source": [
    "fig, ax = plt.subplots(nrows=1, ncols=1, figsize=(10, 4))\n",
    "\n",
    "scores = np.column_stack([models['xgb'].feature_importances_,\n",
    "                          models['rf'].feature_importances_])\n",
    "features = Xtrn.columns.to_numpy()\n",
    "# ax.bar(x=features, height=scores)\n",
    "ax.bar(x=np.arange(0, len(features)) - 0.2, width=0.4, height=models['xgb'].feature_importances_)\n",
    "ax.bar(x=np.arange(0, len(features)) + 0.2, width=0.4, height=models['rf'].feature_importances_)\n",
    "for i, f in enumerate(features):\n",
    "    ax.text(i-0.2, 0.025, f, rotation=90, fontsize=12)\n",
    "ax.legend(['XGBoost', 'Random Forest'])\n",
    "ax.set_ylabel('Feature importances')\n",
    "ax.set_xticks([]);\n",
    "\n",
    "pngFile = './figures/CH09_F06_Kunapuli.png'\n",
    "plt.savefig(pngFile, dpi=300, bbox_inches='tight', pad_inches=0)"
   ]
  }
 ],
 "metadata": {
  "kernelspec": {
   "display_name": "Python 3 (ipykernel)",
   "language": "python",
   "name": "python3"
  },
  "language_info": {
   "codemirror_mode": {
    "name": "ipython",
    "version": 3
   },
   "file_extension": ".py",
   "mimetype": "text/x-python",
   "name": "python",
   "nbconvert_exporter": "python",
   "pygments_lexer": "ipython3",
   "version": "3.10.5"
  }
 },
 "nbformat": 4,
 "nbformat_minor": 5
}
